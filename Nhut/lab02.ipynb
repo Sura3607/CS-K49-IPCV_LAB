{
 "cells": [
  {
   "cell_type": "code",
   "execution_count": 2,
   "metadata": {},
   "outputs": [],
   "source": [
    "import os\n",
    "import cv2\n",
    "import numpy as np\n",
    "import matplotlib.pyplot as plt\n",
    "import time\n",
    "\n",
    "from zipfile import ZipFile\n",
    "from urllib.request import urlretrieve\n",
    "\n",
    "from IPython.display import Image\n",
    "from function import *\n",
    "\n",
    "%matplotlib inline\n",
    "\n",
    "resource_path = \"../Resource/\""
   ]
  },
  {
   "cell_type": "markdown",
   "metadata": {},
   "source": [
    "**Exercises 1**"
   ]
  },
  {
   "cell_type": "code",
   "execution_count": null,
   "metadata": {},
   "outputs": [],
   "source": [
    "img_lena = cv2.imread(resource_path + \"images_lab2/lena.png\",cv2.IMREAD_GRAYSCALE)\n",
    "\n",
    "plt.imshow(img_lena, cmap=\"gray\")\n",
    "plt.axis(\"off\")"
   ]
  },
  {
   "cell_type": "markdown",
   "metadata": {},
   "source": [
    "**Exercises 2**"
   ]
  },
  {
   "cell_type": "code",
   "execution_count": null,
   "metadata": {},
   "outputs": [],
   "source": [
    "#Dung OpenCV\n",
    "# img_lena2 = cv2.copyMakeBorder(\n",
    "#         img_lena,  \n",
    "#         top=1,  # Padding trên\n",
    "#         bottom=1,  # Padding dưới\n",
    "#         left=1,  # Padding trái\n",
    "#         right=1,  # Padding phải\n",
    "#         borderType=cv2.BORDER_REPLICATE  \n",
    "#     )\n",
    "\n",
    "img_lena2= padding(img_lena,1)\n",
    "plt.imshow(img_lena2, cmap= \"gray\")\n",
    "plt.axis(\"off\")"
   ]
  },
  {
   "cell_type": "markdown",
   "metadata": {},
   "source": [
    "**Exercises 3**"
   ]
  },
  {
   "cell_type": "code",
   "execution_count": null,
   "metadata": {},
   "outputs": [],
   "source": [
    "lenaHor_div = hor_div(img_lena2,img_lena)\n",
    "lenaVer_div = ver_div(img_lena2,img_lena)\n",
    "lenaGrad_magnitude = gradient_magnitude(lenaHor_div,lenaVer_div)\n",
    "\n",
    "plt.figure(figsize=(20,5))\n",
    "plt.subplot(131);plt.imshow(lenaHor_div, cmap=\"gray\");plt.title(\"Hor_div\");plt.axis(\"off\")\n",
    "plt.subplot(132);plt.imshow(lenaVer_div, cmap=\"gray\");plt.title(\"Ver_div\");plt.axis(\"off\")\n",
    "plt.subplot(133);plt.imshow(lenaGrad_magnitude, cmap=\"gray\");plt.title(\"Grad_magnitude\");plt.axis(\"off\")"
   ]
  },
  {
   "cell_type": "markdown",
   "metadata": {},
   "source": [
    "**Exercises 4**"
   ]
  },
  {
   "cell_type": "code",
   "execution_count": null,
   "metadata": {},
   "outputs": [],
   "source": [
    "filename = 'result\\lab2\\Ex4_lab2.mp4'\n",
    "fps = 25\n",
    "frame_size = (img_lena.shape[1], img_lena.shape[0])\n",
    "fourcc = cv2.VideoWriter_fourcc(*'mp4v')  # Codec video\n",
    "video = cv2.VideoWriter(filename, fourcc, fps, frame_size)\n",
    "\n",
    "for i in range(10,241,10):\n",
    "    video.write(cv2.cvtColor(binary_segmentation(lenaGrad_magnitude, i),cv2.COLOR_GRAY2RGB))\n",
    "\n",
    "video.release()"
   ]
  },
  {
   "cell_type": "markdown",
   "metadata": {},
   "source": [
    "**Exercises 5**"
   ]
  },
  {
   "cell_type": "code",
   "execution_count": null,
   "metadata": {},
   "outputs": [],
   "source": [
    "plt.imshow(binary_segmentation(lenaGrad_magnitude,20), cmap= \"gray\")\n",
    "plt.axis(\"off\")"
   ]
  },
  {
   "cell_type": "markdown",
   "metadata": {},
   "source": [
    "**Exercises 6**"
   ]
  },
  {
   "cell_type": "code",
   "execution_count": null,
   "metadata": {},
   "outputs": [],
   "source": [
    "smooth_lena = cv2.GaussianBlur(img_lena, (5, 5), 100)\n",
    "\n",
    "bin_grad_magnitude = binary_segmentation(lenaGrad_magnitude,50)\n",
    "\n",
    "smooth_lena_with_edge_preservation = smooth_lena.copy()\n",
    "smooth_lena_with_edge_preservation[bin_grad_magnitude == 255] = img_lena[bin_grad_magnitude == 255]\n",
    "\n",
    "plt.figure(figsize=(12, 6))\n",
    "plt.subplot(1, 3, 1);plt.title(\"Original Lena\");plt.imshow(img_lena, cmap=\"gray\");plt.axis(\"off\")\n",
    "plt.subplot(1, 3, 2);plt.title(\"Smooth Lena\");plt.imshow(smooth_lena, cmap=\"gray\");plt.axis(\"off\")\n",
    "plt.subplot(1, 3, 3);plt.title(\"Smooth Lena with Edge Preservation\");plt.imshow(smooth_lena_with_edge_preservation, cmap=\"gray\");plt.axis(\"off\")"
   ]
  },
  {
   "cell_type": "markdown",
   "metadata": {},
   "source": [
    "**Exercises 7**"
   ]
  },
  {
   "cell_type": "markdown",
   "metadata": {},
   "source": [
    "Canny"
   ]
  },
  {
   "cell_type": "code",
   "execution_count": null,
   "metadata": {},
   "outputs": [],
   "source": [
    "start = time.time()\n",
    "grad_magnitude_canny = cv2.Canny(img_lena,100,200)\n",
    "cannyRuntime = time.time() - start\n",
    "\n",
    "# filename = 'result\\lab2\\Ex7_canny_lab2.mp4'\n",
    "# fps = 25\n",
    "# frame_size = (img_lena.shape[1], img_lena.shape[0])\n",
    "# fourcc = cv2.VideoWriter_fourcc(*'mp4v')  # Codec video\n",
    "# video = cv2.VideoWriter(filename, fourcc, fps, frame_size)\n",
    "\n",
    "# for i in range(10,241,10):\n",
    "#     video.write(cv2.cvtColor(binary_segmentation(grad_magnitude_canny, i),cv2.COLOR_GRAY2RGB))\n",
    "\n",
    "# video.release()\n",
    "\n",
    "bin_grad_canny = binary_segmentation(grad_magnitude_canny,20)\n",
    "\n",
    "smooth_lena_with_edge_preservation = smooth_lena.copy()\n",
    "smooth_lena_with_edge_preservation[bin_grad_canny == 255] = img_lena[bin_grad_canny == 255]\n",
    "\n",
    "plt.figure(figsize=(15, 8))\n",
    "plt.subplot(2, 3, 1);plt.imshow(img_lena, cmap=\"gray\");plt.title(\"Original\");plt.axis(\"off\")\n",
    "plt.subplot(2, 3, 2);plt.imshow(grad_magnitude_canny, cmap=\"gray\");plt.title(\"Canny\");plt.axis(\"off\")\n",
    "\n",
    "plt.subplot(2, 3, 3);plt.imshow(grad_magnitude_canny, cmap=\"gray\");plt.title(\"Binary Seg 20\");plt.axis(\"off\")\n",
    "plt.subplot(2, 3, 4);plt.imshow(smooth_lena, cmap=\"gray\");plt.title(\"Smooth Lena\");plt.axis(\"off\")\n",
    "plt.subplot(2, 3, 5);plt.imshow(smooth_lena_with_edge_preservation, cmap=\"gray\");plt.title(\"Smooth Lena with Edge Preservation\");plt.axis(\"off\")\n"
   ]
  },
  {
   "cell_type": "markdown",
   "metadata": {},
   "source": [
    "Sobel"
   ]
  },
  {
   "cell_type": "code",
   "execution_count": null,
   "metadata": {},
   "outputs": [],
   "source": [
    "start = time.time()\n",
    "sobel_Hor_div = cv2.Sobel(img_lena, cv2.CV_64F, 1, 0, ksize=3) \n",
    "sobel_Ver_div = cv2.Sobel(img_lena, cv2.CV_64F, 0, 1, ksize=3)  \n",
    "grad_magnitude_sobel = gradient_magnitude(sobel_Hor_div,sobel_Ver_div)\n",
    "sobelRuntime = time.time() - start\n",
    "\n",
    "# filename = 'result\\lab2\\Ex7_sobel_lab2.mp4'\n",
    "# fps = 25\n",
    "# frame_size = (img_lena.shape[1], img_lena.shape[0])\n",
    "# fourcc = cv2.VideoWriter_fourcc(*'mp4v')  # Codec video\n",
    "# video = cv2.VideoWriter(filename, fourcc, fps, frame_size)\n",
    "\n",
    "# for i in range(10,241,10):\n",
    "#     video.write(cv2.cvtColor(binary_segmentation(grad_magnitude_sobel, i),cv2.COLOR_GRAY2RGB))\n",
    "\n",
    "# video.release()\n",
    "\n",
    "bin_grad_sobel = binary_segmentation(grad_magnitude_canny,20)\n",
    "\n",
    "smooth_lena_with_edge_preservation = smooth_lena.copy()\n",
    "smooth_lena_with_edge_preservation[bin_grad_sobel == 255] = img_lena[bin_grad_sobel == 255]\n",
    "\n",
    "plt.figure(figsize=(20, 10))\n",
    "plt.subplot(2, 4, 1);plt.imshow(img_lena, cmap=\"gray\");plt.title(\"Original\");plt.axis(\"off\")\n",
    "plt.subplot(2, 4, 2);plt.imshow(sobel_Hor_div, cmap=\"gray\");plt.title(\"Sobel hor_div\");plt.axis(\"off\")\n",
    "plt.subplot(2, 4, 3);plt.imshow(sobel_Ver_div, cmap=\"gray\");plt.title(\"Sobel ver_div\");plt.axis(\"off\")\n",
    "plt.subplot(2, 4, 4);plt.imshow(grad_magnitude_sobel, cmap=\"gray\");plt.title(\"Sobel gradiant_mag\");plt.axis(\"off\")\n",
    "\n",
    "plt.subplot(2, 4, 5);plt.imshow(bin_grad_sobel, cmap=\"gray\");plt.title(\"binary seg 20\");plt.axis(\"off\")\n",
    "plt.subplot(2, 4, 6);plt.imshow(smooth_lena, cmap=\"gray\");plt.title(\"Smooth Lena\");plt.axis(\"off\")\n",
    "plt.subplot(2, 4, 7);plt.imshow(smooth_lena_with_edge_preservation, cmap=\"gray\");plt.title(\"Smooth Lena with Edge Preservation\");plt.axis(\"off\")\n",
    "\n"
   ]
  },
  {
   "cell_type": "markdown",
   "metadata": {},
   "source": [
    "Prewitt"
   ]
  },
  {
   "cell_type": "code",
   "execution_count": null,
   "metadata": {},
   "outputs": [],
   "source": [
    "start = time.time()\n",
    "kernelHor_div = np.array([[1,1,1],[0,0,0],[-1,-1,-1]])\n",
    "kernelVer_div = np.array([[-1,0,1],[-1,0,1],[-1,0,1]])\n",
    "\n",
    "prewittHor_div = cv2.filter2D(img_lena, -1, kernelHor_div)\n",
    "prewittVer_div = cv2.filter2D(img_lena, -1, kernelVer_div)\n",
    "grad_magnitude_prewitt = gradient_magnitude(prewittHor_div,prewittVer_div)\n",
    "prewittRuntime = time.time() - start\n",
    "\n",
    "# filename = 'result\\lab2\\Ex7_prewitt_lab2.mp4'\n",
    "# fps = 25\n",
    "# frame_size = (img_lena.shape[1], img_lena.shape[0])\n",
    "# fourcc = cv2.VideoWriter_fourcc(*'mp4v')  # Codec video\n",
    "# video = cv2.VideoWriter(filename, fourcc, fps, frame_size)\n",
    "\n",
    "# for i in range(10,241,10):\n",
    "#     video.write(cv2.cvtColor(binary_segmentation(grad_magnitude_prewitt, i),cv2.COLOR_GRAY2RGB))\n",
    "\n",
    "# video.release()\n",
    "\n",
    "bin_grad_prewitt = binary_segmentation(grad_magnitude_prewitt,20)\n",
    "\n",
    "smooth_lena_with_edge_preservation = smooth_lena.copy()\n",
    "smooth_lena_with_edge_preservation[bin_grad_prewitt == 255] = img_lena[bin_grad_prewitt == 255]\n",
    "\n",
    "plt.figure(figsize=(20, 10))\n",
    "plt.subplot(2, 4, 1);plt.imshow(img_lena, cmap=\"gray\");plt.title(\"Original\");plt.axis(\"off\")\n",
    "plt.subplot(2, 4, 2);plt.imshow(prewittHor_div, cmap=\"gray\");plt.title(\"Prewitt hor_div\");plt.axis(\"off\")\n",
    "plt.subplot(2, 4, 3);plt.imshow(prewittVer_div, cmap=\"gray\");plt.title(\"Prewitt ver_div\");plt.axis(\"off\")\n",
    "plt.subplot(2, 4, 4);plt.imshow(grad_magnitude_prewitt, cmap=\"gray\");plt.title(\"Prewitt gradiant_mag\");plt.axis(\"off\")\n",
    "\n",
    "plt.subplot(2, 4, 5);plt.imshow(bin_grad_prewitt, cmap=\"gray\");plt.title(\"binary seg 20\");plt.axis(\"off\")\n",
    "plt.subplot(2, 4, 6);plt.imshow(smooth_lena, cmap=\"gray\");plt.title(\"Smooth Lena\");plt.axis(\"off\")\n",
    "plt.subplot(2, 4, 7);plt.imshow(smooth_lena_with_edge_preservation, cmap=\"gray\");plt.title(\"Smooth Lena with Edge Preservation\");plt.axis(\"off\")"
   ]
  },
  {
   "cell_type": "markdown",
   "metadata": {},
   "source": [
    "Robert"
   ]
  },
  {
   "cell_type": "code",
   "execution_count": null,
   "metadata": {},
   "outputs": [],
   "source": [
    "start = time.time()\n",
    "kernelHor_div = np.array([[1, 0], [0, -1]]) \n",
    "kernelVer_div = np.array([[0, 1], [-1, 0]])  \n",
    "\n",
    "robertsHor_div = cv2.filter2D(img_lena, -1, kernelHor_div)\n",
    "robertsVer_div = cv2.filter2D(img_lena, -1, kernelVer_div)\n",
    "grad_magnitude_robert = gradient_magnitude(robertsHor_div,robertsVer_div)\n",
    "robertRuntime = time.time() - start\n",
    "\n",
    "# filename = 'result\\lab2\\Ex7_robert_lab2.mp4'\n",
    "# fps = 25\n",
    "# frame_size = (img_lena.shape[1], img_lena.shape[0])\n",
    "# fourcc = cv2.VideoWriter_fourcc(*'mp4v')  # Codec video\n",
    "# video = cv2.VideoWriter(filename, fourcc, fps, frame_size)\n",
    "\n",
    "# for i in range(10,241,10):\n",
    "#     video.write(cv2.cvtColor(binary_segmentation(grad_magnitude_robert, i),cv2.COLOR_GRAY2RGB))\n",
    "\n",
    "# video.release()\n",
    "\n",
    "bin_grad_robert = binary_segmentation(grad_magnitude_robert,20)\n",
    "\n",
    "smooth_lena_with_edge_preservation = smooth_lena.copy()\n",
    "smooth_lena_with_edge_preservation[bin_grad_robert == 255] = img_lena[bin_grad_robert == 255]\n",
    "\n",
    "plt.figure(figsize=(20, 10))\n",
    "plt.subplot(2, 4, 1);plt.imshow(img_lena, cmap=\"gray\");plt.title(\"Original\");plt.axis(\"off\")\n",
    "plt.subplot(2, 4, 2);plt.imshow(robertsHor_div, cmap=\"gray\");plt.title(\"Robert hor_div\");plt.axis(\"off\")\n",
    "plt.subplot(2, 4, 3);plt.imshow(robertsVer_div, cmap=\"gray\");plt.title(\"Robert ver_div\");plt.axis(\"off\")\n",
    "plt.subplot(2, 4, 4);plt.imshow(grad_magnitude_robert, cmap=\"gray\");plt.title(\"Robert gradiant_mag\");plt.axis(\"off\")\n",
    "\n",
    "plt.subplot(2, 4, 5);plt.imshow(bin_grad_robert, cmap=\"gray\");plt.title(\"binary seg 20\");plt.axis(\"off\")\n",
    "plt.subplot(2, 4, 6);plt.imshow(smooth_lena, cmap=\"gray\");plt.title(\"Smooth Lena\");plt.axis(\"off\")\n",
    "plt.subplot(2, 4, 7);plt.imshow(smooth_lena_with_edge_preservation, cmap=\"gray\");plt.title(\"Smooth Lena with Edge Preservation\");plt.axis(\"off\")"
   ]
  },
  {
   "cell_type": "markdown",
   "metadata": {},
   "source": [
    "Scharr"
   ]
  },
  {
   "cell_type": "code",
   "execution_count": null,
   "metadata": {},
   "outputs": [],
   "source": [
    "start = time.time()\n",
    "scharr_Hor_div = cv2.Scharr(img_lena, cv2.CV_64F, 1, 0)  \n",
    "scharr_Ver_div = cv2.Scharr(img_lena, cv2.CV_64F, 0, 1)  \n",
    "grad_magnitude_scharr = gradient_magnitude(sobel_Hor_div,scharr_Ver_div)\n",
    "scharrRuntime = time.time() - start\n",
    "\n",
    "# filename = 'result\\lab2\\Ex7_scharr_lab2.mp4'\n",
    "# fps = 25\n",
    "# frame_size = (img_lena.shape[1], img_lena.shape[0])\n",
    "# fourcc = cv2.VideoWriter_fourcc(*'mp4v')  # Codec video\n",
    "# video = cv2.VideoWriter(filename, fourcc, fps, frame_size)\n",
    "\n",
    "# for i in range(10,241,10):\n",
    "#     video.write(cv2.cvtColor(binary_segmentation(grad_magnitude_scharr, i),cv2.COLOR_GRAY2RGB))\n",
    "\n",
    "# video.release()\n",
    "\n",
    "bin_grad_scharr = binary_segmentation(grad_magnitude_scharr,20)\n",
    "smooth_lena_with_edge_preservation = smooth_lena.copy()\n",
    "smooth_lena_with_edge_preservation[bin_grad_scharr == 255] = img_lena[bin_grad_scharr == 255]\n",
    "\n",
    "plt.figure(figsize=(20, 10))\n",
    "plt.subplot(2, 4, 1);plt.imshow(img_lena, cmap=\"gray\");plt.title(\"Original\");plt.axis(\"off\")\n",
    "plt.subplot(2, 4, 2);plt.imshow(scharr_Hor_div, cmap=\"gray\");plt.title(\"Scharr hor_div\");plt.axis(\"off\")\n",
    "plt.subplot(2, 4, 3);plt.imshow(scharr_Ver_div, cmap=\"gray\");plt.title(\"Scharr ver_div\");plt.axis(\"off\")\n",
    "plt.subplot(2, 4, 4);plt.imshow(grad_magnitude_scharr, cmap=\"gray\");plt.title(\"Scharr gradiant_mag\");plt.axis(\"off\")\n",
    "\n",
    "plt.subplot(2, 4, 5);plt.imshow(bin_grad_scharr, cmap=\"gray\");plt.title(\"binary seg 20\");plt.axis(\"off\")\n",
    "plt.subplot(2, 4, 6);plt.imshow(smooth_lena, cmap=\"gray\");plt.title(\"Smooth Lena\");plt.axis(\"off\")\n",
    "plt.subplot(2, 4, 7);plt.imshow(smooth_lena_with_edge_preservation, cmap=\"gray\");plt.title(\"Smooth Lena with Edge Preservation\");plt.axis(\"off\")"
   ]
  },
  {
   "cell_type": "markdown",
   "metadata": {},
   "source": [
    "Laplacian"
   ]
  },
  {
   "cell_type": "code",
   "execution_count": null,
   "metadata": {},
   "outputs": [],
   "source": [
    "start = time.time()\n",
    "grad_magnitude_laplacian = np.abs(cv2.Laplacian(img_lena, cv2.CV_64F).astype(np.uint8))\n",
    "laplacianRuntime = time.time() - start\n",
    "\n",
    "# filename = 'result\\lab2\\Ex7_laplacian_lab2.mp4'\n",
    "# fps = 25\n",
    "# frame_size = (img_lena.shape[1], img_lena.shape[0])\n",
    "# fourcc = cv2.VideoWriter_fourcc(*'mp4v')  # Codec video\n",
    "# video = cv2.VideoWriter(filename, fourcc, fps, frame_size)\n",
    "\n",
    "# for i in range(10,241,10):\n",
    "#     video.write(cv2.cvtColor(binary_segmentation(grad_magnitude_laplacian, i),cv2.COLOR_GRAY2RGB))\n",
    "\n",
    "# video.release()\n",
    "\n",
    "bin_grad_laplacian = binary_segmentation(grad_magnitude_laplacian,20)\n",
    "\n",
    "smooth_lena_with_edge_preservation = smooth_lena.copy()\n",
    "smooth_lena_with_edge_preservation[bin_grad_laplacian == 255] = img_lena[bin_grad_laplacian == 255]\n",
    "\n",
    "plt.figure(figsize=(15, 8))\n",
    "plt.subplot(2, 3, 1);plt.imshow(img_lena, cmap=\"gray\");plt.title(\"Original\");plt.axis(\"off\")\n",
    "plt.subplot(2, 3, 2);plt.imshow(grad_magnitude_laplacian, cmap=\"gray\");plt.title(\"Laplacian\");plt.axis(\"off\")\n",
    "\n",
    "plt.subplot(2, 3, 3);plt.imshow(grad_magnitude_laplacian, cmap=\"gray\");plt.title(\"Binary Seg 20\");plt.axis(\"off\")\n",
    "plt.subplot(2, 3, 4);plt.imshow(smooth_lena, cmap=\"gray\");plt.title(\"Smooth Lena\");plt.axis(\"off\")\n",
    "plt.subplot(2, 3, 5);plt.imshow(smooth_lena_with_edge_preservation, cmap=\"gray\");plt.title(\"Smooth Lena with Edge Preservation\");plt.axis(\"off\")\n"
   ]
  },
  {
   "cell_type": "markdown",
   "metadata": {},
   "source": [
    "**Exercises 8**"
   ]
  },
  {
   "cell_type": "code",
   "execution_count": null,
   "metadata": {},
   "outputs": [],
   "source": [
    "execution_times = [cannyRuntime,sobelRuntime,prewittRuntime,robertRuntime,scharrRuntime,laplacianRuntime]\n",
    "print(execution_times)\n",
    "operators = ['Canny','Sobel', 'Prewitt','Roberts', 'Scharr','Laplacian']\n",
    "\n",
    "plt.figure(figsize=(10,6))\n",
    "plt.bar(operators, execution_times, color='skyblue')\n",
    "plt.title('So sánh thời gian thực thi của các toán tử')\n",
    "plt.xlabel('Toán tử')\n",
    "plt.ylabel('Thời gian (giây)')\n",
    "plt.xticks(rotation=45)\n",
    "plt.tight_layout()\n",
    "plt.show()"
   ]
  },
  {
   "cell_type": "markdown",
   "metadata": {},
   "source": [
    "**Exercises 9**"
   ]
  },
  {
   "cell_type": "code",
   "execution_count": null,
   "metadata": {},
   "outputs": [],
   "source": []
  }
 ],
 "metadata": {
  "kernelspec": {
   "display_name": "Python 3",
   "language": "python",
   "name": "python3"
  },
  "language_info": {
   "codemirror_mode": {
    "name": "ipython",
    "version": 3
   },
   "file_extension": ".py",
   "mimetype": "text/x-python",
   "name": "python",
   "nbconvert_exporter": "python",
   "pygments_lexer": "ipython3",
   "version": "3.12.4"
  }
 },
 "nbformat": 4,
 "nbformat_minor": 2
}
