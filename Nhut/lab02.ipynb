{
 "cells": [
  {
   "cell_type": "code",
   "execution_count": 1,
   "metadata": {},
   "outputs": [],
   "source": [
    "import os\n",
    "import cv2\n",
    "import numpy as np\n",
    "import matplotlib.pyplot as plt\n",
    "\n",
    "from zipfile import ZipFile\n",
    "from urllib.request import urlretrieve\n",
    "\n",
    "from IPython.display import Image\n",
    "from function import *\n",
    "\n",
    "%matplotlib inline\n",
    "\n",
    "resource_path = \"../Resource/\""
   ]
  },
  {
   "cell_type": "markdown",
   "metadata": {},
   "source": [
    "**Exercises 1**"
   ]
  },
  {
   "cell_type": "code",
   "execution_count": null,
   "metadata": {},
   "outputs": [],
   "source": [
    "img_lena = cv2.imread(resource_path + \"images_lab2/lena.png\",cv2.IMREAD_GRAYSCALE)\n",
    "\n",
    "plt.imshow(img_lena, cmap=\"gray\")\n",
    "plt.axis(\"off\")"
   ]
  },
  {
   "cell_type": "markdown",
   "metadata": {},
   "source": [
    "**Exercises 2**"
   ]
  },
  {
   "cell_type": "code",
   "execution_count": null,
   "metadata": {},
   "outputs": [],
   "source": [
    "#Dung OpenCV\n",
    "# img_lena2 = cv2.copyMakeBorder(\n",
    "#         img_lena,  \n",
    "#         top=1,  # Padding trên\n",
    "#         bottom=1,  # Padding dưới\n",
    "#         left=1,  # Padding trái\n",
    "#         right=1,  # Padding phải\n",
    "#         borderType=cv2.BORDER_REPLICATE  \n",
    "#     )\n",
    "\n",
    "img_lena2= padding(img_lena,1)\n",
    "plt.imshow(img_lena2, cmap= \"gray\")\n",
    "plt.axis(\"off\")"
   ]
  },
  {
   "cell_type": "markdown",
   "metadata": {},
   "source": [
    "**Exercises 3**"
   ]
  },
  {
   "cell_type": "code",
   "execution_count": null,
   "metadata": {},
   "outputs": [],
   "source": [
    "lenaHor_div = hor_div(img_lena2,img_lena)\n",
    "lenaVer_div = ver_div(img_lena2,img_lena)\n",
    "lenaGrad_magnitude = gradient_magnitude(lenaHor_div,lenaVer_div)\n",
    "\n",
    "plt.figure(figsize=(20,5))\n",
    "plt.subplot(131);plt.imshow(lenaHor_div, cmap=\"gray\");plt.title(\"Hor_div\")\n",
    "plt.axis(\"off\")\n",
    "plt.subplot(132);plt.imshow(lenaVer_div, cmap=\"gray\");plt.title(\"Ver_div\")\n",
    "plt.axis(\"off\")\n",
    "plt.subplot(133);plt.imshow(lenaGrad_magnitude, cmap=\"gray\");plt.title(\"Grad_magnitude\")\n",
    "plt.axis(\"off\")"
   ]
  },
  {
   "cell_type": "markdown",
   "metadata": {},
   "source": [
    "**Exercises 4**"
   ]
  },
  {
   "cell_type": "code",
   "execution_count": 10,
   "metadata": {},
   "outputs": [],
   "source": [
    "filename = '../result/lab2/Ex4_lab2.mp4'\n",
    "fps = 25\n",
    "frame_size = (img_lena.shape[1], img_lena.shape[0])\n",
    "fourcc = cv2.VideoWriter_fourcc(*'mp4v')  # Codec video\n",
    "video = cv2.VideoWriter(filename, fourcc, fps, frame_size)\n",
    "\n",
    "for i in range(10,241,10):\n",
    "    video.write(cv2.cvtColor(binary_segmentation(img_lena, i),cv2.COLOR_GRAY2RGB))\n",
    "\n",
    "video.release()"
   ]
  },
  {
   "cell_type": "markdown",
   "metadata": {},
   "source": [
    "**Exercises 5**"
   ]
  },
  {
   "cell_type": "code",
   "execution_count": null,
   "metadata": {},
   "outputs": [],
   "source": [
    "plt.imshow(binary_segmentation(lenaGrad_magnitude,20), cmap= \"gray\")\n",
    "plt.axis(\"off\")"
   ]
  },
  {
   "cell_type": "markdown",
   "metadata": {},
   "source": [
    "**Exercises 6**"
   ]
  },
  {
   "cell_type": "code",
   "execution_count": null,
   "metadata": {},
   "outputs": [],
   "source": []
  }
 ],
 "metadata": {
  "kernelspec": {
   "display_name": "Python 3",
   "language": "python",
   "name": "python3"
  },
  "language_info": {
   "codemirror_mode": {
    "name": "ipython",
    "version": 3
   },
   "file_extension": ".py",
   "mimetype": "text/x-python",
   "name": "python",
   "nbconvert_exporter": "python",
   "pygments_lexer": "ipython3",
   "version": "3.12.4"
  }
 },
 "nbformat": 4,
 "nbformat_minor": 2
}
