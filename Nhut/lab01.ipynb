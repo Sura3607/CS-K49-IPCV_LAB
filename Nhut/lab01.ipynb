{
 "cells": [
  {
   "cell_type": "code",
   "execution_count": null,
   "metadata": {},
   "outputs": [],
   "source": [
    "import os\n",
    "import cv2\n",
    "import numpy as np\n",
    "import matplotlib.pyplot as plt\n",
    "\n",
    "from zipfile import ZipFile\n",
    "from urllib.request import urlretrieve\n",
    "\n",
    "from IPython.display import Image\n",
    "from function import *\n",
    "\n",
    "%matplotlib inline"
   ]
  },
  {
   "cell_type": "markdown",
   "metadata": {},
   "source": [
    "**Exercises 1**"
   ]
  },
  {
   "cell_type": "code",
   "execution_count": null,
   "metadata": {},
   "outputs": [],
   "source": [
    "np.random.seed(6)\n",
    "img = np.random.randint(0,256,(800,800),dtype=np.uint8)\n",
    "# print(img)\n",
    "\n",
    "plt.imshow(img,cmap='gray')\n",
    "plt.axis(\"off\")"
   ]
  },
  {
   "cell_type": "markdown",
   "metadata": {},
   "source": [
    "**Exercises 2**"
   ]
  },
  {
   "cell_type": "code",
   "execution_count": null,
   "metadata": {},
   "outputs": [],
   "source": [
    "img_invert = 255 - img\n",
    "plt.imshow(img_invert, cmap='gray')\n",
    "plt.axis(\"off\")"
   ]
  },
  {
   "cell_type": "markdown",
   "metadata": {},
   "source": [
    "**Exercises 3**"
   ]
  },
  {
   "cell_type": "code",
   "execution_count": null,
   "metadata": {},
   "outputs": [],
   "source": [
    "\n",
    "plt.figure(figsize=(15, 10))\n",
    "plt.subplot(151);plt.imshow(img, cmap=\"gray\");plt.title(\"Original\")\n",
    "plt.axis(\"off\")\n",
    "plt.subplot(152);plt.imshow(brightness(img,-100), cmap=\"gray\");plt.title(\"alpha_values -100\")\n",
    "plt.axis(\"off\")\n",
    "plt.subplot(153);plt.imshow(brightness(img, -50), cmap=\"gray\");plt.title(\"alpha_values -50\")\n",
    "plt.axis(\"off\")\n",
    "plt.subplot(154);plt.imshow(brightness(img,  50), cmap=\"gray\");plt.title(\"alpha_values 50\")\n",
    "plt.axis(\"off\")\n",
    "plt.subplot(155);plt.imshow(brightness(img, 100), cmap=\"gray\");plt.title(\"alpha_values 100\")\n",
    "plt.axis(\"off\")\n"
   ]
  },
  {
   "cell_type": "markdown",
   "metadata": {},
   "source": [
    "**Exercises 4**"
   ]
  },
  {
   "cell_type": "code",
   "execution_count": null,
   "metadata": {},
   "outputs": [],
   "source": [
    "plt.figure(figsize=(20,5))\n",
    "plt.subplot(131);plt.imshow(img, cmap=\"gray\");plt.title(\"Original\")\n",
    "plt.axis(\"off\")\n",
    "plt.subplot(132);plt.imshow(multip_brightness(img,0.7), cmap=\"gray\");plt.title(\"beta_values 0.7\")\n",
    "plt.axis(\"off\")\n",
    "plt.subplot(133);plt.imshow(multip_brightness(img,1.3), cmap=\"gray\");plt.title(\"beta_values 1.3\")\n",
    "plt.axis(\"off\")\n"
   ]
  },
  {
   "cell_type": "markdown",
   "metadata": {},
   "source": [
    "**Exercises 5**"
   ]
  },
  {
   "cell_type": "code",
   "execution_count": null,
   "metadata": {},
   "outputs": [],
   "source": [
    "B = img[:400, :400]\n",
    "G = img[:400, 400:]\n",
    "R = img[400:, :400]\n",
    "\n",
    "RGB = cv2.merge((R,G,B)) \n",
    "\n",
    "plt.figure(figsize=[20, 5])\n",
    "plt.subplot(141);plt.imshow(R, cmap=\"gray\");plt.title(\"Red Channel\")\n",
    "plt.axis(\"off\")\n",
    "plt.subplot(142);plt.imshow(G, cmap=\"gray\");plt.title(\"Green Channel\")\n",
    "plt.axis(\"off\")\n",
    "plt.subplot(143);plt.imshow(B, cmap=\"gray\");plt.title(\"Blue Channel\")\n",
    "plt.axis(\"off\")\n",
    "plt.subplot(144);plt.imshow(RGB);plt.title(\"RGB Channel\") #chuyen tu BGR sang RGB\n",
    "plt.axis(\"off\")"
   ]
  },
  {
   "cell_type": "markdown",
   "metadata": {},
   "source": [
    "**Exercises 6**"
   ]
  },
  {
   "cell_type": "code",
   "execution_count": null,
   "metadata": {},
   "outputs": [],
   "source": [
    "\n",
    "plt.figure(figsize=(20, 10))\n",
    "\n",
    "# 6.2\n",
    "plt.subplot(2, 4, 1); plt.imshow(RGB); plt.title(\"Original\"); plt.axis(\"off\")\n",
    "plt.subplot(2, 4, 2); plt.imshow(255 - RGB); plt.title(\"invert\"); plt.axis(\"off\")\n",
    "#6.3\n",
    "plt.subplot(2, 4, 3); plt.imshow(brightness(RGB, -100)); plt.title(\"alpha -100\"); plt.axis(\"off\")\n",
    "plt.subplot(2, 4, 4); plt.imshow(brightness(RGB, -50)); plt.title(\"alpha -50\"); plt.axis(\"off\")\n",
    "plt.subplot(2, 4, 5); plt.imshow(brightness(RGB, 50)); plt.title(\"alpha 50\"); plt.axis(\"off\")\n",
    "plt.subplot(2, 4, 6); plt.imshow(brightness(RGB, 100)); plt.title(\"alpha 100\"); plt.axis(\"off\")\n",
    "#6.4\n",
    "plt.subplot(2, 4, 7); plt.imshow(multip_brightness(RGB, 0.7)); plt.title(\"beta 0.7\"); plt.axis(\"off\")\n",
    "plt.subplot(2, 4, 8); plt.imshow(multip_brightness(RGB, 1.3)); plt.title(\"beta 1.3\"); plt.axis(\"off\")"
   ]
  },
  {
   "cell_type": "markdown",
   "metadata": {},
   "source": [
    "**Exercises 7**"
   ]
  },
  {
   "cell_type": "code",
   "execution_count": null,
   "metadata": {},
   "outputs": [],
   "source": [
    "H = img[:400, :400]\n",
    "S = img[:400, 400:]\n",
    "V_L = img[400:, :400]\n",
    "\n",
    "HSV = cv2.merge((H,S,V_L))\n",
    "HSL = cv2.merge((H,S,V_L))\n",
    "\n",
    "HSV_img = cv2.cvtColor(HSV,cv2.COLOR_HSV2RGB)\n",
    "HSL_img = cv2.cvtColor(HSL,cv2.COLOR_HLS2RGB)\n",
    "\n",
    "plt.figure(figsize=(30, 20))\n",
    "plt.subplot(121);plt.imshow(HSV_img);plt.title(\"HSV\")\n",
    "plt.axis(\"off\")\n",
    "plt.subplot(122);plt.imshow(HSL_img); plt.title(\"HSL\")\n",
    "plt.axis(\"off\")"
   ]
  },
  {
   "cell_type": "markdown",
   "metadata": {},
   "source": [
    "**Exercises 8**"
   ]
  },
  {
   "cell_type": "code",
   "execution_count": null,
   "metadata": {},
   "outputs": [],
   "source": [
    "\n",
    "plt.figure(figsize=(40, 10))\n",
    "plt.subplot(2, 8, 1);plt.imshow(HSV_img, cmap=\"gray\");plt.title(\"HSV Original\");plt.axis(\"off\")\n",
    "plt.subplot(2, 8, 2);plt.imshow(255 - HSV_img, cmap=\"gray\");plt.title(\"HSV invert\");plt.axis(\"off\")\n",
    "plt.subplot(2, 8, 3);plt.imshow(brightness(HSV_img,-100), cmap=\"gray\");plt.title(\"HSV_alpha_values -100\");plt.axis(\"off\")\n",
    "plt.subplot(2, 8, 4);plt.imshow(brightness(HSV_img, -50), cmap=\"gray\");plt.title(\"HSV_alpha_values -50\");plt.axis(\"off\")\n",
    "plt.subplot(2, 8, 5);plt.imshow(brightness(HSV_img,  50), cmap=\"gray\");plt.title(\"HSV_alpha_values 50\");plt.axis(\"off\")\n",
    "plt.subplot(2, 8, 6);plt.imshow(brightness(HSV_img, 100), cmap=\"gray\");plt.title(\"HSV_alpha_values 100\");plt.axis(\"off\")\n",
    "plt.subplot(2, 8, 7);plt.imshow(multip_brightness(HSV_img,0.7), cmap=\"gray\");plt.title(\"HSV_beta_values 0.7\");plt.axis(\"off\")\n",
    "plt.subplot(2, 8, 8);plt.imshow(multip_brightness(HSV_img,1.3), cmap=\"gray\");plt.title(\"HSV_beta_values 1.3\");plt.axis(\"off\")\n",
    "\n",
    "plt.subplot(2, 8, 9);plt.imshow(HSL_img, cmap=\"gray\");plt.title(\"HLS Original\");plt.axis(\"off\")\n",
    "plt.subplot(2, 8, 10);plt.imshow(255 - HSL_img, cmap=\"gray\");plt.title(\"HLS invert\");plt.axis(\"off\")\n",
    "plt.subplot(2, 8, 11);plt.imshow(brightness(HSL_img,-100), cmap=\"gray\");plt.title(\"HSL_alpha_values -100\");plt.axis(\"off\")\n",
    "plt.subplot(2, 8, 12);plt.imshow(brightness(HSL_img, -50), cmap=\"gray\");plt.title(\"HSL_alpha_values -50\");plt.axis(\"off\")\n",
    "plt.subplot(2, 8, 13);plt.imshow(brightness(HSL_img,  50), cmap=\"gray\");plt.title(\"HSL_alpha_values 50\");plt.axis(\"off\")\n",
    "plt.subplot(2, 8, 14);plt.imshow(brightness(HSL_img, 100), cmap=\"gray\");plt.title(\"HSL_alpha_values 100\");plt.axis(\"off\")\n",
    "plt.subplot(2, 8, 15);plt.imshow(multip_brightness(HSL_img,0.7), cmap=\"gray\");plt.title(\"HSL_beta_values 0.7\");plt.axis(\"off\")\n",
    "plt.subplot(2, 8, 16);plt.imshow(multip_brightness(HSL_img,1.3), cmap=\"gray\");plt.title(\"HSL_beta_values 1.3\");plt.axis(\"off\")"
   ]
  },
  {
   "cell_type": "markdown",
   "metadata": {},
   "source": [
    "**Exercises 9**"
   ]
  },
  {
   "cell_type": "code",
   "execution_count": null,
   "metadata": {},
   "outputs": [],
   "source": [
    "A0 = np.zeros((800, 800, 4), dtype=np.uint8)\n",
    "\n",
    "P1 = A0[:400, :400]\n",
    "P2 = A0[:400, 400:]\n",
    "P3 = A0[400:, :400]\n",
    "\n",
    "P1 = cv2.resize(P1,(600,600))\n",
    "P2 = cv2.resize(P2,(600,600))\n",
    "P3 = cv2.resize(P3,(600,600))\n",
    "\n",
    "P1 = cv2.cvtColor(P1, cv2.COLOR_RGB2RGBA)\n",
    "P2 = cv2.cvtColor(P2, cv2.COLOR_RGB2RGBA)\n",
    "P3 = cv2.cvtColor(P3, cv2.COLOR_RGB2RGBA)\n",
    "A0 = cv2.cvtColor(A0, cv2.COLOR_RGB2RGBA)\n",
    "\n",
    "R0 = np.zeros_like(P1, dtype=np.uint8)\n",
    "B0 = np.zeros_like(P2, dtype=np.uint8)\n",
    "G0 = np.zeros_like(P3, dtype=np.uint8)\n",
    "\n",
    "R0[:, :, :] = [255, 0, 0, 100]  # RED , alpha = 100\n",
    "B0[:, :, :] = [0, 0, 255, 100]  # BLUE , alpha = 100\n",
    "G0[:, :, :] = [0, 255, 0, 100]  # GREEN , alpha = 100\n",
    "\n",
    "A0[:, :, 3] = 255\n",
    "\n",
    "\n",
    "A0[:600, :600] = cv2.addWeighted(R0, 100/255.0, A0[:600, :600], 1 - 100/255.0, 0)\n",
    "A0[:600, 200:] = cv2.addWeighted(B0, 100/255.0, A0[:600, 200:], 1 - 100/255.0, 0)  \n",
    "A0[200:, :600] = cv2.addWeighted(G0, 100/255.0, A0[200:, :600], 1 - 100/255.0, 0)\n",
    "\n",
    "plt.imshow(A0)\n",
    "plt.axis(\"off\")\n"
   ]
  },
  {
   "cell_type": "markdown",
   "metadata": {},
   "source": [
    "**Exercises 10**"
   ]
  },
  {
   "cell_type": "code",
   "execution_count": null,
   "metadata": {},
   "outputs": [],
   "source": [
    "A0 = np.zeros((800, 800, 4), dtype=np.uint8)\n",
    "A0 = cv2.cvtColor(A0, cv2.COLOR_RGB2RGBA)\n",
    "A0[:, :, 3] = 255\n",
    "\n",
    "\n",
    "filename = 'video_lab1.mp4'\n",
    "fps = 25\n",
    "frame_size = (800, 800) \n",
    "fourcc = cv2.VideoWriter_fourcc(*'mp4v')  # Codec video\n",
    "video = cv2.VideoWriter(filename, fourcc, fps, frame_size)\n",
    "\n",
    "for color_value in range(256):\n",
    "    R0[:, :, :] = [color_value, 0, 0, 100]  \n",
    "    B0[:, :, :] = [0, 0, color_value, 100]  \n",
    "    G0[:, :, :] = [0, color_value, 0, 100]\n",
    "    video.write(megre_to_frame(R0,G0,B0,A0))\n",
    "\n",
    "video.release()"
   ]
  }
 ],
 "metadata": {
  "kernelspec": {
   "display_name": "Python 3",
   "language": "python",
   "name": "python3"
  },
  "language_info": {
   "codemirror_mode": {
    "name": "ipython",
    "version": 3
   },
   "file_extension": ".py",
   "mimetype": "text/x-python",
   "name": "python",
   "nbconvert_exporter": "python",
   "pygments_lexer": "ipython3",
   "version": "3.12.4"
  }
 },
 "nbformat": 4,
 "nbformat_minor": 2
}
