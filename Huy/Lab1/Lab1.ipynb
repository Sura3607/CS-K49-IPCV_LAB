{
 "cells": [
  {
   "cell_type": "code",
   "execution_count": null,
   "metadata": {},
   "outputs": [],
   "source": [
    "import cv2 as cv\n",
    "import os\n",
    "import matplotlib.pyplot as plt\n",
    "import numpy as np"
   ]
  },
  {
   "cell_type": "markdown",
   "metadata": {},
   "source": [
    "***EXERCISE 1***"
   ]
  },
  {
   "cell_type": "code",
   "execution_count": null,
   "metadata": {},
   "outputs": [],
   "source": [
    "matrix = np.random.randint(0, 256, (800, 800), dtype=np.uint8)\n",
    "\n",
    "cv.imshow('Bai1', matrix)\n",
    "cv.waitKey(0)\n",
    "cv.destroyAllWindows()\n",
    "\n",
    "plt.imshow(matrix, cmap='gray')\n",
    "plt.axis('off')\n",
    "plt.title(\"Random Image\")\n",
    "plt.show()"
   ]
  },
  {
   "cell_type": "code",
   "execution_count": null,
   "metadata": {},
   "outputs": [],
   "source": [
    "matrix = np.random.randint(0, 256, (800, 800), dtype=np.uint8)\n",
    "\n",
    "blue_image = np.zeros((800, 800, 3), dtype=np.uint8)\n",
    "blue_image[:, :, 0] = matrix\n",
    "\n",
    "cv.imshow('Blue Image', blue_image)\n",
    "cv.waitKey(0)\n",
    "cv.destroyAllWindows()\n",
    "\n",
    "plt.imshow(cv.cvtColor(blue_image, cv.COLOR_BGR2RGB))\n",
    "plt.axis('off')\n",
    "plt.title(\"Blue Image\")\n",
    "plt.show()"
   ]
  },
  {
   "cell_type": "code",
   "execution_count": null,
   "metadata": {},
   "outputs": [],
   "source": [
    "matrix = np.random.randint(0, 256, (800, 800), dtype=np.uint8)\n",
    "\n",
    "red_image = np.zeros((800, 800, 3), dtype= np.uint8)\n",
    "red_image[:, :, 2] = matrix\n",
    "\n",
    "cv.imshow(\"Red Image\", red_image)\n",
    "cv.waitKey(0)\n",
    "cv.destroyAllWindows()\n",
    "\n",
    "plt.imshow(cv.cvtColor(red_image, cv.COLOR_BGR2RGB))  # Chuyển BGR sang RGB cho Matplotlib\n",
    "plt.axis('off')\n",
    "plt.title(\"Red Image\")\n",
    "plt.show()"
   ]
  },
  {
   "cell_type": "code",
   "execution_count": null,
   "metadata": {},
   "outputs": [],
   "source": [
    "matrix = np.random.randint(0, 256, (800, 800), dtype= np.uint8)\n",
    "\n",
    "green_image = np.zeros((800, 800, 3), dtype= np.uint8)\n",
    "green_image[:, :, 1] = matrix\n",
    "\n",
    "cv.imshow(\"Green Image\",green_image)\n",
    "cv.waitKey(0)\n",
    "cv.destroyAllWindows()\n",
    "\n",
    "plt.imshow(cv.cvtColor(green_image,cv.COLOR_BGR2RGB))\n",
    "plt.axis('off')\n",
    "plt.title(\"Green Image\")\n",
    "plt.show()"
   ]
  },
  {
   "cell_type": "markdown",
   "metadata": {},
   "source": [
    "***EXERCISE 2***"
   ]
  },
  {
   "cell_type": "code",
   "execution_count": null,
   "metadata": {},
   "outputs": [],
   "source": [
    "#blue image\n",
    "matrix = np.random.randint(0, 256, (800, 800), dtype= np.uint8)\n",
    "\n",
    "blue_image = np.zeros((800, 800, 3), dtype= np.uint8)\n",
    "blue_image[:, :, 0] = matrix\n",
    "inverted_image = 255 - blue_image\n",
    "\n",
    "cv.imshow(\"Inverted Image\", inverted_image)\n",
    "cv.waitKey(0)\n",
    "cv.destroyAllWindows()\n",
    "\n",
    "plt.imshow(cv.cvtColor(inverted_image, cv.COLOR_BGR2RGB))\n",
    "plt.axis('off')\n",
    "plt.title(\"Inverted Image\")\n",
    "plt.show()"
   ]
  },
  {
   "cell_type": "code",
   "execution_count": null,
   "metadata": {},
   "outputs": [],
   "source": [
    "#green image\n",
    "matrix = np.random.randint(0, 256, (800, 800), dtype= np.uint8)\n",
    "\n",
    "green_image = np.zeros((800, 800, 3), dtype= np.uint8)\n",
    "green_image[:, :, 1] = matrix\n",
    "inverted_image = 255 - green_image\n",
    "\n",
    "cv.imshow(\"Inverted Image\", inverted_image)\n",
    "cv.waitKey(0)\n",
    "cv.destroyAllWindows()\n",
    "\n",
    "plt.imshow(cv.cvtColor(inverted_image, cv.COLOR_BGR2RGB))\n",
    "plt.axis('off')\n",
    "plt.title(\"Inverted Image\")\n",
    "plt.show()"
   ]
  },
  {
   "cell_type": "code",
   "execution_count": null,
   "metadata": {},
   "outputs": [],
   "source": [
    "#red image\n",
    "matrix = np.random.randint(0, 256, (800, 800), dtype= np.uint8)\n",
    "\n",
    "red_image = np.zeros((800, 800, 3), dtype= np.uint8)\n",
    "red_image[:, :, 2] = matrix\n",
    "inverted_image = 255 - red_image\n",
    "\n",
    "cv.imshow(\"Inverted Image\", inverted_image)\n",
    "cv.waitKey(0)\n",
    "cv.destroyAllWindows()\n",
    "\n",
    "plt.imshow(cv.cvtColor(inverted_image, cv.COLOR_BGR2RGB))\n",
    "plt.axis('off')\n",
    "plt.title(\"Inverted Image\")\n",
    "plt.show()"
   ]
  },
  {
   "cell_type": "markdown",
   "metadata": {},
   "source": [
    "***EXERCISE 3***"
   ]
  },
  {
   "cell_type": "code",
   "execution_count": null,
   "metadata": {},
   "outputs": [],
   "source": [
    "def Adjusted(a, matrix = None):\n",
    "    matrix = np.random.randint(0, 256, (800, 800), dtype= np.uint8)\n",
    "    #a = int(input(\"Input value: \"))\n",
    "    # adjusted_image = np.clip(original_image + alpha, 0, 255).\n",
    "    adjusted_image = np.clip(matrix.astype(np.int32) + a, 0, 255).astype(np.uint8)\n",
    "    #astype(___) --> change datatype\n",
    "    cv.imshow(\"Adjusted Image\", adjusted_image)\n",
    "    cv.waitKey(0)\n",
    "    cv.destroyAllWindows()\n",
    "\n",
    "    plt.imshow(adjusted_image, cmap= 'gray')\n",
    "    plt.axis('off')\n",
    "    plt.title(\"Adjusted Image\")\n",
    "    plt.show()\n",
    "\n",
    "    return adjusted_image"
   ]
  },
  {
   "cell_type": "code",
   "execution_count": null,
   "metadata": {},
   "outputs": [],
   "source": [
    "#0\n",
    "a = int(input(\"Input value: \"))\n",
    "print(Adjusted(a))"
   ]
  },
  {
   "cell_type": "code",
   "execution_count": null,
   "metadata": {},
   "outputs": [],
   "source": [
    "#-100\n",
    "a = int(input(\"Input value: \"))\n",
    "print(Adjusted(a))"
   ]
  },
  {
   "cell_type": "code",
   "execution_count": null,
   "metadata": {},
   "outputs": [],
   "source": [
    "#-50\n",
    "a = int(input(\"Input value: \"))\n",
    "print(Adjusted(a))"
   ]
  },
  {
   "cell_type": "code",
   "execution_count": null,
   "metadata": {},
   "outputs": [],
   "source": [
    "#50\n",
    "a = int(input(\"Input value: \"))\n",
    "print(Adjusted(a))"
   ]
  },
  {
   "cell_type": "code",
   "execution_count": null,
   "metadata": {},
   "outputs": [],
   "source": [
    "#100\n",
    "a = int(input(\"Input value: \"))\n",
    "print(Adjusted(a))"
   ]
  },
  {
   "cell_type": "code",
   "execution_count": null,
   "metadata": {},
   "outputs": [],
   "source": [
    "def Adjusted_linear(a, matrix):\n",
    "    adjusted_image = np.clip(matrix.astype(np.int32) + a, 0, 255).astype(np.uint8)\n",
    "    return adjusted_image\n",
    "\n",
    "def test():\n",
    "    matrix = np.random.randint(0, 256, (800, 800), dtype= np.uint8)\n",
    "\n",
    "    plt.figure(figsize=(8, 8)) #width, height in pixel\n",
    "\n",
    "    test_values = [-100, -50, 0, 50, 100, 255]\n",
    "    \n",
    "    for i, a in enumerate(test_values):\n",
    "        adjusted_image = Adjusted_linear(a, matrix)\n",
    "\n",
    "        plt.subplot(3, 3, i + 1) #create grid with rows and columns\n",
    "        plt.imshow(adjusted_image, cmap= 'gray')\n",
    "        plt.axis('off')\n",
    "        plt.title(f\"Brightness Adjusted: {a}\")\n",
    "    \n",
    "    plt.tight_layout()\n",
    "    plt.show()\n",
    "\n",
    "test()"
   ]
  },
  {
   "cell_type": "markdown",
   "metadata": {},
   "source": [
    "***EXERCISE 4***"
   ]
  },
  {
   "cell_type": "code",
   "execution_count": null,
   "metadata": {},
   "outputs": [],
   "source": [
    "def Adjusted_scale(a, matrix):\n",
    "    adjusted_image = np.clip(matrix.astype(np.int32) * a, 0, 255).astype(np.uint8)\n",
    "    return adjusted_image\n",
    "\n",
    "def test():\n",
    "    matrix = np.random.randint(0, 256, (800, 800), dtype= np.uint8)\n",
    "    \n",
    "    plt.figure(figsize= (8, 8))\n",
    "\n",
    "    test_values = [0, 0.7, 1.3]\n",
    "\n",
    "    for i, a in enumerate(test_values):\n",
    "        adjusted_image = Adjusted_scale(a, matrix)\n",
    "        plt.subplot(1, 3, i + 1)\n",
    "        plt.imshow(adjusted_image, cmap= 'gray')\n",
    "        plt.axis('off')\n",
    "        plt.title(f\"Brightness Image: {a}\")\n",
    "\n",
    "    plt.tight_layout()\n",
    "    plt.show()\n",
    "test()"
   ]
  },
  {
   "cell_type": "markdown",
   "metadata": {},
   "source": [
    "***EXERCISE 5***"
   ]
  },
  {
   "cell_type": "code",
   "execution_count": null,
   "metadata": {},
   "outputs": [],
   "source": [
    "image = np.random.randint(0, 256, (800, 800), dtype= np.uint8)\n",
    "\n",
    "part1 = image[:400, :400] #góc bên trên trái\n",
    "part2 = image[:400, 400:] #góc bên trên phải\n",
    "part3 = image[400:, :400] #góc dưới trên trái\n",
    "part4 = image[400:, 400:] #góc dưới bên phải\n",
    "\n",
    "rgb_image = np.stack([part1, part2, part3], axis= 2) #Tạo ảnh màu RGB bằng cách xếp chồng 3 phần ảnh vào 3 kênh R, G, B\n",
    "\n",
    "plt.figure(figsize= (10, 5))\n",
    "\n",
    "plt.subplot(1, 2, 1)\n",
    "plt.imshow(image, cmap= 'gray')\n",
    "plt.axis('off')\n",
    "plt.title('Original image')\n",
    "\n",
    "plt.subplot(1, 2, 2)\n",
    "plt.imshow(rgb_image)\n",
    "plt.axis('off')\n",
    "plt.title('RGB Image')\n",
    "\n",
    "plt.tight_layout()\n",
    "plt.show()"
   ]
  },
  {
   "cell_type": "markdown",
   "metadata": {},
   "source": [
    "***EXERCISE 6***"
   ]
  },
  {
   "cell_type": "code",
   "execution_count": null,
   "metadata": {},
   "outputs": [],
   "source": [
    "image = np.random.randint(0, 256, (800, 800), dtype= np.uint8)\n",
    "\n",
    "part1 = image[:400, :400]\n",
    "part2 = image[400:, :400]\n",
    "part3 = image[:400, 400:]\n",
    "part4 = image[400:, 400:]\n",
    "\n",
    "rgb_image = np.stack([part1, part2, part3], axis= 2)\n",
    "inverted_rgb_image = 255 - rgb_image\n",
    "\n",
    "def Adjusted_linear(image, a):\n",
    "    return np.clip(image.astype(np.int32) + a, 0, 255).astype(np.uint8)\n",
    "\n",
    "def Adjusted_scale(image, b):\n",
    "    return np.clip(image.astype(np.float32) * b, 0, 255).astype(np.uint8)\n",
    "\n",
    "\n",
    "plt.figure(figsize= (12, 12))\n",
    "\n",
    "plt.subplot(3, 3, 1)\n",
    "plt.imshow(rgb_image)\n",
    "plt.axis('off')\n",
    "plt.title('RGB Image')\n",
    "\n",
    "plt.subplot(3, 3, 2)\n",
    "plt.imshow(inverted_rgb_image)\n",
    "plt.axis('off')\n",
    "plt.title('Inverted RGB Image')\n",
    "#Adjusted_linear\n",
    "test_value_linear = [-100, -50, 0, 50, 100]\n",
    "for i, a in enumerate(test_value_linear):\n",
    "    adjusted_linear_image = Adjusted_linear(rgb_image, a)\n",
    "    plt.subplot(3, 3, i + 3)\n",
    "    plt.imshow(adjusted_linear_image)\n",
    "    plt.axis('off')\n",
    "    plt.title(f\"Brightness Image: {a}\")\n",
    "\n",
    "#Adjusted_scale\n",
    "test_value_scale = [0.7, 1.3]\n",
    "for i, b in enumerate(test_value_scale):\n",
    "    adjusted_scale_image = Adjusted_scale(rgb_image, b)\n",
    "    plt.subplot(3, 3, i + 8)\n",
    "    plt.imshow(adjusted_scale_image)\n",
    "    plt.axis('off')\n",
    "    plt.title(f\"Brightness Image: {b}\")\n",
    "\n",
    "plt.tight_layout()\n",
    "plt.show()"
   ]
  },
  {
   "cell_type": "markdown",
   "metadata": {},
   "source": [
    "***EXERCISE 7***"
   ]
  },
  {
   "cell_type": "code",
   "execution_count": null,
   "metadata": {},
   "outputs": [],
   "source": [
    "image = np.random.randint(0, 256, (800, 800), dtype= np.uint8)\n",
    "\n",
    "part1 = image[:400, :400]\n",
    "part2 = image[400:, :400]\n",
    "part3 = image[:400, 400:]\n",
    "part4 = image[400:, 400:]\n",
    "\n",
    "rgb_image = np.stack([part1, part2, part3], axis= 2)\n",
    "\n",
    "hsv_image = cv.cvtColor(rgb_image, cv.COLOR_RGB2HSV)\n",
    "\n",
    "hue_channel = hsv_image[:, :, 0] #H (Hue Channel)\n",
    "saturation_channel = hsv_image[:, :, 1] #S (Saturation Channel)\n",
    "value_channel = hsv_image[:, :, 2] #V (Value Channel)\n",
    "\n",
    "# Tạo ảnh HSV mới từ các phần ảnh đã chia\n",
    "# part1 -> H, part2 -> S, part3 -> V\n",
    "hsv_combined_image = np.zeros_like(hsv_image)\n",
    "\n",
    "hsv_combined_image[:, :, 0] = hue_channel\n",
    "hsv_combined_image[:, :, 1] = saturation_channel\n",
    "hsv_combined_image[:, :, 2] = value_channel\n",
    "\n",
    "new_rgb_image = cv.cvtColor(hsv_combined_image, cv.COLOR_HSV2RGB)\n",
    "\n",
    "plt.figure(figsize= (8,8))\n",
    "\n",
    "plt.imshow(new_rgb_image)\n",
    "plt.axis('off')\n",
    "plt.title('HSV/HSL Image')\n",
    "\n",
    "plt.tight_layout()\n",
    "plt.show()"
   ]
  },
  {
   "cell_type": "markdown",
   "metadata": {},
   "source": [
    "***EXERCISE 8***"
   ]
  },
  {
   "cell_type": "code",
   "execution_count": null,
   "metadata": {},
   "outputs": [],
   "source": [
    "image = np.random.randint(0, 256, (800, 800), dtype= np.uint8)\n",
    "\n",
    "part1 = image[:400, :400]\n",
    "part2 = image[400:, :400]\n",
    "part3 = image[:400, 400:]\n",
    "part4 = image[400:, 400:]\n",
    "\n",
    "rgb_image = np.stack([part1, part2, part3], axis= 2)\n",
    "\n",
    "hsv_image = cv.cvtColor(rgb_image, cv.COLOR_RGB2HSV)\n",
    "\n",
    "hue_channel = hsv_image[:, :, 0] #H (Hue Channel)\n",
    "saturation_channel = hsv_image[:, :, 1] #S (Saturation Channel)\n",
    "value_channel = hsv_image[:, :, 2] #V (Value Channel)\n",
    "\n",
    "# Tạo ảnh HSV mới từ các phần ảnh đã chia\n",
    "# part1 -> H, part2 -> S, part3 -> V\n",
    "hsv_combined_image = np.zeros_like(hsv_image)\n",
    "\n",
    "hsv_combined_image[:, :, 0] = hue_channel\n",
    "hsv_combined_image[:, :, 1] = saturation_channel\n",
    "hsv_combined_image[:, :, 2] = value_channel\n",
    "\n",
    "new_rgb_image = cv.cvtColor(hsv_combined_image, cv.COLOR_HSV2RGB)\n",
    "inverted_new_rgb_image = 255 - new_rgb_image\n",
    "\n",
    "def Adjusted_linear(image, a):\n",
    "    return np.clip(image.astype(np.int32) + a, 0, 255).astype(np.uint8)\n",
    "\n",
    "def Adjusted_scale(image, b):\n",
    "    return np.clip(image.astype(np.float32) * b, 0, 255).astype(np.uint8)\n",
    "\n",
    "\n",
    "plt.figure(figsize= (12, 12))\n",
    "\n",
    "plt.subplot(3, 3, 1)\n",
    "plt.imshow(new_rgb_image)\n",
    "plt.axis('off')\n",
    "plt.title('HSV/HSL Image')\n",
    "\n",
    "plt.subplot(3, 3, 2)\n",
    "plt.imshow(inverted_new_rgb_image)\n",
    "plt.axis('off')\n",
    "plt.title('Inverted HSV/HSL Image')\n",
    "\n",
    "#Adjusted_linear\n",
    "test_value_linear = [-100, -50, 0, 50, 100]\n",
    "for i, a in enumerate(test_value_linear):\n",
    "    adjusted_linear_image = Adjusted_linear(new_rgb_image, a)\n",
    "    plt.subplot(3, 3, i + 3)\n",
    "    plt.imshow(adjusted_linear_image)\n",
    "    plt.axis('off')\n",
    "    plt.title(f\"Brightness HSV/HSL Image: {a}\")\n",
    "\n",
    "#Adjusted_scale\n",
    "test_value_scale = [0.7, 1.3]\n",
    "for i, b in enumerate(test_value_scale):\n",
    "    adjusted_scale_image = Adjusted_scale(new_rgb_image, b)\n",
    "    plt.subplot(3, 3, i + 8)\n",
    "    plt.imshow(adjusted_scale_image)\n",
    "    plt.axis('off')\n",
    "    plt.title(f\"Brightness HSV/HSL Image: {b}\")\n",
    "\n",
    "plt.tight_layout()\n",
    "plt.show()"
   ]
  },
  {
   "cell_type": "markdown",
   "metadata": {},
   "source": [
    "***EXERCISE 9 (importance)***"
   ]
  },
  {
   "cell_type": "code",
   "execution_count": null,
   "metadata": {},
   "outputs": [],
   "source": [
    "Image_A0 = np.zeros((800, 800, 4), dtype= np.uint8)\n",
    "Image_A0[:, : , 3] = 255\n",
    "\n",
    "part1 = Image_A0 [:400, :400]\n",
    "part2 = Image_A0 [400:, :400]\n",
    "part3 = Image_A0 [:400, 400:]\n",
    "part4 = Image_A0 [400:, 400:]\n",
    "\n",
    "P1 = cv.resize(part1, (600, 600), interpolation = cv.INTER_LINEAR)\n",
    "P2 = cv.resize(part1, (600, 600), interpolation = cv.INTER_LINEAR)\n",
    "P3 = cv.resize(part1, (600, 600), interpolation = cv.INTER_LINEAR)\n",
    "\n",
    "P1_RGBA = np.zeros((600, 600, 4), dtype= np.uint8)\n",
    "P2_RGBA = np.zeros((600, 600, 4), dtype= np.uint8)\n",
    "P3_RGBA = np.zeros((600, 600, 4), dtype= np.uint8)\n",
    "\n",
    "P1_RGBA[:, :, 0] = 255\n",
    "P1_RGBA[:, :, 3] = 100\n",
    "\n",
    "P2_RGBA[:, :, 2] = 255\n",
    "P2_RGBA[:, :, 3] = 100\n",
    "\n",
    "P3_RGBA[:, :, 1] = 255\n",
    "P3_RGBA[:, :, 3] = 100\n",
    "\n",
    "new_Image_A0 = Image_A0.copy()\n",
    "new_Image_A0[:600, :600] = P1_RGBA \n",
    "new_Image_A0[:600, 200:800] = P2_RGBA \n",
    "new_Image_A0[200:800, :600] = P3_RGBA \n",
    "\n",
    "plt.figure(figsize=(8, 8))\n",
    "plt.imshow(new_Image_A0)\n",
    "plt.axis('off')\n",
    "plt.title('Combined Image')\n",
    "plt.show()"
   ]
  },
  {
   "cell_type": "markdown",
   "metadata": {},
   "source": [
    "***EXERCISE 10 (importance)***"
   ]
  },
  {
   "cell_type": "code",
   "execution_count": null,
   "metadata": {},
   "outputs": [],
   "source": [
    "Image_A0 = np.zeros((800, 800, 4), dtype= np.uint8)\n",
    "Image_A0[:, : , 3] = 255\n",
    "\n",
    "part1 = Image_A0 [:400, :400]\n",
    "part2 = Image_A0 [400:, :400]\n",
    "part3 = Image_A0 [:400, 400:]\n",
    "part4 = Image_A0 [400:, 400:]\n",
    "\n",
    "P1 = cv.resize(part1, (600, 600), interpolation = cv.INTER_LINEAR)\n",
    "P2 = cv.resize(part1, (600, 600), interpolation = cv.INTER_LINEAR)\n",
    "P3 = cv.resize(part1, (600, 600), interpolation = cv.INTER_LINEAR)\n",
    "\n",
    "P1_RGBA = np.zeros((600, 600, 4), dtype= np.uint8)\n",
    "P2_RGBA = np.zeros((600, 600, 4), dtype= np.uint8)\n",
    "P3_RGBA = np.zeros((600, 600, 4), dtype= np.uint8)\n",
    "\n",
    "P1_RGBA[:, :, 0] = 255\n",
    "P1_RGBA[:, :, 3] = 100\n",
    "\n",
    "P2_RGBA[:, :, 2] = 255\n",
    "P2_RGBA[:, :, 3] = 100\n",
    "\n",
    "P3_RGBA[:, :, 1] = 255\n",
    "P3_RGBA[:, :, 3] = 100\n",
    "\n",
    "new_Image_A0 = Image_A0.copy()\n",
    "new_Image_A0[:600, :600] = P1_RGBA \n",
    "new_Image_A0[:600, 200:800] = P2_RGBA \n",
    "new_Image_A0[200:800, :600] = P3_RGBA \n",
    "\n",
    "fourcc = cv.VideoWriter_fourcc(*'mp4v')\n",
    "out = cv.VideoWriter('Output_video.mp4', fourcc, 25, (800, 800))\n",
    "\n",
    "for i in range(256):\n",
    "    new_Image_A0 = Image_A0.copy()\n",
    "    \n",
    "    P1_RGBA[:, :, 0] = i\n",
    "    new_Image_A0[:600, :600] = P1_RGBA\n",
    "\n",
    "    P2_RGBA[:, :, 2] = i\n",
    "    new_Image_A0[:600, 200:800] = P2_RGBA\n",
    "\n",
    "    P3_RGBA[:, :, 1] = i\n",
    "    new_Image_A0[200:800, :600] = P3_RGBA\n",
    "\n",
    "    RGB_Image_A0 = cv.cvtColor(new_Image_A0, cv.COLOR_RGBA2RGB)\n",
    "    out.write(RGB_Image_A0)\n",
    "\n",
    "out.release()\n",
    "cv.destroyAllWindows()"
   ]
  }
 ],
 "metadata": {
  "kernelspec": {
   "display_name": "Python 3",
   "language": "python",
   "name": "python3"
  },
  "language_info": {
   "codemirror_mode": {
    "name": "ipython",
    "version": 3
   },
   "file_extension": ".py",
   "mimetype": "text/x-python",
   "name": "python",
   "nbconvert_exporter": "python",
   "pygments_lexer": "ipython3",
   "version": "3.12.8"
  }
 },
 "nbformat": 4,
 "nbformat_minor": 2
}
