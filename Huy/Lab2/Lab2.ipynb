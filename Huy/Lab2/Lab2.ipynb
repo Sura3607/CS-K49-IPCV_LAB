{
 "cells": [
  {
   "cell_type": "code",
   "execution_count": 45,
   "metadata": {},
   "outputs": [],
   "source": [
    "import os\n",
    "import cv2\n",
    "import numpy as np\n",
    "import matplotlib.pyplot as plt\n",
    "import time\n",
    "\n",
    "from zipfile import ZipFile\n",
    "from urllib.request import urlretrieve\n",
    "\n",
    "from IPython.display import Image\n",
    "from function import *\n",
    "\n",
    "%matplotlib inline\n",
    "\n",
    "resource_path = \"../Resource/\""
   ]
  },
  {
   "cell_type": "markdown",
   "metadata": {},
   "source": [
    "***Exercise 1***"
   ]
  },
  {
   "cell_type": "code",
   "execution_count": null,
   "metadata": {},
   "outputs": [],
   "source": [
    "img_lena = cv2.imread(\"D:\\Study\\School\\OpenCV\\CS-K49-IPCV_LAB\\Resource\\images_lab2\\lena.png\",cv2.IMREAD_GRAYSCALE)\n",
    "\n",
    "plt.imshow(img_lena, cmap=\"gray\")\n",
    "plt.axis(\"off\")\n",
    "# print(img_lena)"
   ]
  },
  {
   "cell_type": "markdown",
   "metadata": {},
   "source": [
    "***Exercise 2***"
   ]
  },
  {
   "cell_type": "code",
   "execution_count": null,
   "metadata": {},
   "outputs": [],
   "source": [
    "img_lena2= padding(img_lena,1)\n",
    "plt.imshow(img_lena2, cmap= \"gray\")\n",
    "plt.axis(\"off\")"
   ]
  },
  {
   "cell_type": "markdown",
   "metadata": {},
   "source": [
    "***Exercise 3***"
   ]
  },
  {
   "cell_type": "code",
   "execution_count": null,
   "metadata": {},
   "outputs": [],
   "source": [
    "lena_Hor_div = hor_div(img_lena2,img_lena) #--> phương ngang\n",
    "lena_Ver_div = ver_div(img_lena2,img_lena) #--> phương dọc\n",
    "lenaGrad_magnitude = gradient_magnitude(lena_Hor_div,lena_Ver_div) #độ lớn của vector gradient\n",
    "\n",
    "plt.figure(figsize=(10,5))\n",
    "plt.subplot(1, 3, 1)\n",
    "plt.imshow(lena_Hor_div, cmap=\"gray\")\n",
    "plt.title(\"Hor_div\")\n",
    "plt.axis(\"off\")\n",
    "\n",
    "plt.subplot(1, 3, 2)\n",
    "plt.imshow(lena_Ver_div, cmap=\"gray\")\n",
    "plt.title(\"Ver_div\")\n",
    "plt.axis(\"off\")\n",
    "\n",
    "plt.subplot(1, 3, 3)\n",
    "plt.imshow(lenaGrad_magnitude, cmap=\"gray\")\n",
    "plt.title(\"Grad_magnitude\")\n",
    "plt.axis(\"off\")"
   ]
  },
  {
   "cell_type": "markdown",
   "metadata": {},
   "source": [
    "***Exercise 4***"
   ]
  },
  {
   "cell_type": "code",
   "execution_count": null,
   "metadata": {},
   "outputs": [],
   "source": [
    "filename = 'result\\Lab2\\Ex4_Lab2.mp4'\n",
    "fps = 25\n",
    "frame_size = (img_lena.shape[1], img_lena.shape[0])\n",
    "fourcc = cv2.VideoWriter_fourcc(*'mp4v')  # Codec video\n",
    "video = cv2.VideoWriter(filename, fourcc, fps, frame_size)\n",
    "\n",
    "for i in range(10,241,10):\n",
    "    video.write(cv2.cvtColor(binary_segmentation(lenaGrad_magnitude, i),cv2.COLOR_GRAY2RGB))\n",
    "\n",
    "video.release()"
   ]
  },
  {
   "cell_type": "markdown",
   "metadata": {},
   "source": [
    "***Exercise 5***"
   ]
  },
  {
   "cell_type": "code",
   "execution_count": null,
   "metadata": {},
   "outputs": [],
   "source": [
    "plt.imshow(binary_segmentation(lenaGrad_magnitude,20), cmap= \"gray\")\n",
    "plt.axis(\"off\")"
   ]
  },
  {
   "cell_type": "markdown",
   "metadata": {},
   "source": [
    "***Exercise 6***"
   ]
  },
  {
   "cell_type": "code",
   "execution_count": null,
   "metadata": {},
   "outputs": [],
   "source": [
    "smooth_lena = cv2.GaussianBlur(img_lena, (5, 5), 100)\n",
    "\n",
    "bin_grad_magnitude = binary_segmentation(lenaGrad_magnitude,50)\n",
    "\n",
    "smooth_lena_with_edge_preservation = smooth_lena.copy()\n",
    "smooth_lena_with_edge_preservation[bin_grad_magnitude == 255] = img_lena[bin_grad_magnitude == 255]\n",
    "\n",
    "plt.figure(figsize=(12, 6))\n",
    "plt.subplot(1, 3, 1)\n",
    "plt.title(\"Original Lena\")\n",
    "plt.imshow(img_lena, cmap=\"gray\")\n",
    "plt.axis(\"off\")\n",
    "\n",
    "plt.subplot(1, 3, 2)\n",
    "plt.title(\"Smooth Lena\")\n",
    "plt.imshow(smooth_lena, cmap=\"gray\")\n",
    "plt.axis(\"off\")\n",
    "\n",
    "plt.subplot(1, 3, 3)\n",
    "plt.title(\"Smooth Lena with Edge Preservation\")\n",
    "plt.imshow(smooth_lena_with_edge_preservation, cmap=\"gray\")\n",
    "plt.axis(\"off\")"
   ]
  },
  {
   "cell_type": "markdown",
   "metadata": {},
   "source": [
    "***Exercise 7***"
   ]
  },
  {
   "cell_type": "code",
   "execution_count": null,
   "metadata": {},
   "outputs": [],
   "source": []
  },
  {
   "cell_type": "markdown",
   "metadata": {},
   "source": [
    "***Exercise 8***"
   ]
  },
  {
   "cell_type": "code",
   "execution_count": null,
   "metadata": {},
   "outputs": [],
   "source": []
  },
  {
   "cell_type": "markdown",
   "metadata": {},
   "source": [
    "***Exercise 9***"
   ]
  },
  {
   "cell_type": "code",
   "execution_count": null,
   "metadata": {},
   "outputs": [],
   "source": [
    "img_01 = cv2.imread(r\"D:/Study/School/OpenCV/CS-K49-IPCV_LAB/Resource/images_lab2/unconnected.png\", cv2.IMREAD_GRAYSCALE)\n",
    "img_02 = cv2.imread(r\"D:/Study/School/OpenCV/CS-K49-IPCV_LAB/Resource/images_lab2/connected.png\", cv2.IMREAD_GRAYSCALE)\n",
    "\n",
    "images = [img_01,img_02]\n",
    "\n",
    "plt.figure(figsize=(4, 4))\n",
    "for i in range(len(images)):\n",
    "    plt.subplot(121+i)\n",
    "    if all_components(images[i]) == 1:\n",
    "        plt.title(\"Connected\")\n",
    "    else:\n",
    "        plt.title(\"Unconnected\")\n",
    "    plt.imshow(images[i], cmap=\"gray\")\n",
    "    plt.axis(\"off\")"
   ]
  }
 ],
 "metadata": {
  "kernelspec": {
   "display_name": "Python 3",
   "language": "python",
   "name": "python3"
  },
  "language_info": {
   "codemirror_mode": {
    "name": "ipython",
    "version": 3
   },
   "file_extension": ".py",
   "mimetype": "text/x-python",
   "name": "python",
   "nbconvert_exporter": "python",
   "pygments_lexer": "ipython3",
   "version": "3.12.8"
  }
 },
 "nbformat": 4,
 "nbformat_minor": 2
}
