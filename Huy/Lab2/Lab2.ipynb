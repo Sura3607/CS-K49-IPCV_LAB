{
 "cells": [
  {
   "cell_type": "code",
   "execution_count": 31,
   "metadata": {},
   "outputs": [],
   "source": [
    "import os\n",
    "import cv2\n",
    "import numpy as np\n",
    "import matplotlib.pyplot as plt\n",
    "import time\n",
    "\n",
    "from zipfile import ZipFile\n",
    "from urllib.request import urlretrieve\n",
    "\n",
    "from IPython.display import Image\n",
    "from function import *\n",
    "\n",
    "%matplotlib inline\n",
    "\n",
    "resource_path = \"../Resource/\""
   ]
  },
  {
   "cell_type": "markdown",
   "metadata": {},
   "source": [
    "***Exercise 1***"
   ]
  },
  {
   "cell_type": "code",
   "execution_count": null,
   "metadata": {},
   "outputs": [],
   "source": [
    "img_lena = cv2.imread(\"D:\\Study\\School\\OpenCV\\CS-K49-IPCV_LAB\\Resource\\images_lab2\\lena.png\",cv2.IMREAD_GRAYSCALE)\n",
    "\n",
    "plt.imshow(img_lena, cmap=\"gray\")\n",
    "plt.axis(\"off\")\n",
    "# print(img_lena)"
   ]
  },
  {
   "cell_type": "markdown",
   "metadata": {},
   "source": [
    "***Exercise 2***"
   ]
  },
  {
   "cell_type": "code",
   "execution_count": null,
   "metadata": {},
   "outputs": [],
   "source": [
    "img_lena2= padding(img_lena,1)\n",
    "\n",
    "plt.imshow(img_lena2, cmap= \"gray\")\n",
    "plt.axis(\"off\")"
   ]
  },
  {
   "cell_type": "markdown",
   "metadata": {},
   "source": [
    "***Exercise 3***"
   ]
  },
  {
   "cell_type": "code",
   "execution_count": null,
   "metadata": {},
   "outputs": [],
   "source": [
    "lena_Hor_div = hor_div(img_lena2,img_lena) #--> phương ngang\n",
    "lena_Ver_div = ver_div(img_lena2,img_lena) #--> phương dọc\n",
    "lenaGrad_magnitude = gradient_magnitude(lena_Hor_div,lena_Ver_div) #độ lớn của vector gradient\n",
    "\n",
    "plt.figure(figsize=(10,5))\n",
    "\n",
    "plt.subplot(1, 3, 1)\n",
    "plt.imshow(lena_Hor_div, cmap=\"gray\")\n",
    "plt.title(\"Hor_div\")\n",
    "plt.axis(\"off\")\n",
    "\n",
    "plt.subplot(1, 3, 2)\n",
    "plt.imshow(lena_Ver_div, cmap=\"gray\")\n",
    "plt.title(\"Ver_div\")\n",
    "plt.axis(\"off\")\n",
    "\n",
    "plt.subplot(1, 3, 3)\n",
    "plt.imshow(lenaGrad_magnitude, cmap=\"gray\")\n",
    "plt.title(\"Grad_magnitude\")\n",
    "plt.axis(\"off\")"
   ]
  },
  {
   "cell_type": "markdown",
   "metadata": {},
   "source": [
    "***Exercise 4***"
   ]
  },
  {
   "cell_type": "code",
   "execution_count": null,
   "metadata": {},
   "outputs": [],
   "source": [
    "#file output\n",
    "filename = 'result\\Ex4_Lab2.mp4'\n",
    "fps = 25\n",
    "frame_size = (img_lena.shape[1], img_lena.shape[0])\n",
    "fourcc = cv2.VideoWriter_fourcc(*'mp4v')  # Codec video\n",
    "video = cv2.VideoWriter(filename, fourcc, fps, frame_size)\n",
    "\n",
    "for i in range(10,241,10):\n",
    "    video.write(cv2.cvtColor(binary_segmentation(lenaGrad_magnitude, i),cv2.COLOR_GRAY2RGB))\n",
    "\n",
    "video.release()"
   ]
  },
  {
   "cell_type": "markdown",
   "metadata": {},
   "source": [
    "***Exercise 5***"
   ]
  },
  {
   "cell_type": "code",
   "execution_count": null,
   "metadata": {},
   "outputs": [],
   "source": [
    "plt.imshow(binary_segmentation(lenaGrad_magnitude,20), cmap= \"gray\")\n",
    "plt.axis(\"off\")"
   ]
  },
  {
   "cell_type": "markdown",
   "metadata": {},
   "source": [
    "***Exercise 6***"
   ]
  },
  {
   "cell_type": "code",
   "execution_count": null,
   "metadata": {},
   "outputs": [],
   "source": [
    "smooth_lena = cv2.GaussianBlur(img_lena, (5, 5), 100)\n",
    "# (5, 5): Kích thước của kernel Gaussian (ma trận lọc)\n",
    "# 100: Độ lệch chuẩn (sigma) cho Gaussian Blur\n",
    "\n",
    "bin_grad_magnitude = binary_segmentation(lenaGrad_magnitude,50)\n",
    "# 50 --> phân đoạn nhị phân\n",
    "# >50 --> gán 255 (white)\n",
    "# <50 --> gán 0 (black)\n",
    "\n",
    "# Sao chép ảnh làm mượt và giữ lại các cạnh từ ảnh gốc\n",
    "smooth_lena_with_edge_preservation = smooth_lena.copy()\n",
    "smooth_lena_with_edge_preservation[bin_grad_magnitude == 255] = img_lena[bin_grad_magnitude == 255]\n",
    "# Tại các vị trí cạnh (các pixel có giá trị 255 trong bin_grad_magnitude), thay thế giá trị từ ảnh làm mượt bằng giá trị từ ảnh gốc (img_lena)\n",
    "# --> giữ cạnh nét\n",
    "\n",
    "plt.figure(figsize=(12, 6))\n",
    "plt.subplot(1, 3, 1)\n",
    "plt.title(\"Original Lena\")\n",
    "plt.imshow(img_lena, cmap=\"gray\")\n",
    "plt.axis(\"off\")\n",
    "\n",
    "plt.subplot(1, 3, 2)\n",
    "plt.title(\"Smooth Lena\")\n",
    "plt.imshow(smooth_lena, cmap=\"gray\")\n",
    "plt.axis(\"off\")\n",
    "\n",
    "plt.subplot(1, 3, 3)\n",
    "plt.title(\"Smooth Lena with Edge Preservation\")\n",
    "plt.imshow(smooth_lena_with_edge_preservation, cmap=\"gray\")\n",
    "plt.axis(\"off\")"
   ]
  },
  {
   "cell_type": "markdown",
   "metadata": {},
   "source": [
    "***Exercise 7***"
   ]
  },
  {
   "cell_type": "markdown",
   "metadata": {},
   "source": [
    "***Canny***"
   ]
  },
  {
   "cell_type": "code",
   "execution_count": null,
   "metadata": {},
   "outputs": [],
   "source": [
    "start = time.time()\n",
    "\n",
    "#Canny Edge Detection để phát hiện các cạnh trong ảnh Lena\n",
    "grad_magnitude_canny = cv2.Canny(img_lena,100,200)\n",
    "# Ngưỡng dưới = 100, ngưỡng trên = 200\n",
    "# Các pixel với gradient > 200 --> cạnh \n",
    "# 100 < pixel với gradient < 200 --> check nếu kết nối với cạnh mạnh\n",
    "cannyRuntime = time.time() - start\n",
    "\n",
    "bin_grad_canny = binary_segmentation(grad_magnitude_canny,20) #ngưỡng 20\n",
    "\n",
    "smooth_lena_with_edge_preservation = smooth_lena.copy()\n",
    "smooth_lena_with_edge_preservation[bin_grad_canny == 255] = img_lena[bin_grad_canny == 255]\n",
    "\n",
    "plt.figure(figsize=(15, 8))\n",
    "plt.subplot(2, 3, 1)\n",
    "plt.imshow(img_lena, cmap=\"gray\")\n",
    "plt.title(\"Original\");plt.axis(\"off\")\n",
    "plt.subplot(2, 3, 2)\n",
    "plt.imshow(grad_magnitude_canny, cmap=\"gray\")\n",
    "plt.title(\"Canny\");plt.axis(\"off\")\n",
    "\n",
    "plt.subplot(2, 3, 3)\n",
    "plt.imshow(grad_magnitude_canny, cmap=\"gray\")\n",
    "plt.title(\"Binary Seg 20\")\n",
    "plt.axis(\"off\")\n",
    "\n",
    "plt.subplot(2, 3, 4)\n",
    "plt.imshow(smooth_lena, cmap=\"gray\")\n",
    "plt.title(\"Smooth Lena\")\n",
    "plt.axis(\"off\")\n",
    "\n",
    "plt.subplot(2, 3, 5)\n",
    "plt.imshow(smooth_lena_with_edge_preservation, cmap=\"gray\")\n",
    "plt.title(\"Smooth Lena with Edge Preservation\")\n",
    "plt.axis(\"off\")"
   ]
  },
  {
   "cell_type": "markdown",
   "metadata": {},
   "source": [
    "***Sobel***"
   ]
  },
  {
   "cell_type": "code",
   "execution_count": null,
   "metadata": {},
   "outputs": [],
   "source": [
    "start = time.time()\n",
    "\n",
    "# Tính gradient theo phương ngang sử dụng Sobel với kernel dọc (dx=1, dy=0)\n",
    "sobel_Hor_div = cv2.Sobel(img_lena, cv2.CV_64F, 1, 0, ksize=3)  \n",
    "# cv2.CV_64F: datatype for gradient (64-bit float)\n",
    "# ksize=3 --> size kernel 3x3\n",
    "\n",
    "sobel_Ver_div = cv2.Sobel(img_lena, cv2.CV_64F, 0, 1, ksize=3) #(dx=0, dy=1)  \n",
    "\n",
    "grad_magnitude_sobel = gradient_magnitude(sobel_Hor_div,sobel_Ver_div)\n",
    "\n",
    "sobelRuntime = time.time() - start\n",
    "\n",
    "bin_grad_sobel = binary_segmentation(grad_magnitude_canny,20)\n",
    "\n",
    "smooth_lena_with_edge_preservation = smooth_lena.copy()\n",
    "smooth_lena_with_edge_preservation[bin_grad_sobel == 255] = img_lena[bin_grad_sobel == 255]\n",
    "\n",
    "plt.figure(figsize=(20, 10))\n",
    "plt.subplot(2, 4, 1);plt.imshow(img_lena, cmap=\"gray\");plt.title(\"Original\");plt.axis(\"off\")\n",
    "plt.subplot(2, 4, 2);plt.imshow(sobel_Hor_div, cmap=\"gray\");plt.title(\"Sobel hor_div\");plt.axis(\"off\")\n",
    "plt.subplot(2, 4, 3);plt.imshow(sobel_Ver_div, cmap=\"gray\");plt.title(\"Sobel ver_div\");plt.axis(\"off\")\n",
    "plt.subplot(2, 4, 4);plt.imshow(grad_magnitude_sobel, cmap=\"gray\");plt.title(\"Sobel gradiant_mag\");plt.axis(\"off\")\n",
    "\n",
    "plt.subplot(2, 4, 5);plt.imshow(bin_grad_sobel, cmap=\"gray\");plt.title(\"binary seg 20\");plt.axis(\"off\")\n",
    "plt.subplot(2, 4, 6);plt.imshow(smooth_lena, cmap=\"gray\");plt.title(\"Smooth Lena\");plt.axis(\"off\")\n",
    "plt.subplot(2, 4, 7);plt.imshow(smooth_lena_with_edge_preservation, cmap=\"gray\");plt.title(\"Smooth Lena with Edge Preservation\");plt.axis(\"off\")"
   ]
  },
  {
   "cell_type": "markdown",
   "metadata": {},
   "source": [
    "***Prewitt***"
   ]
  },
  {
   "cell_type": "code",
   "execution_count": null,
   "metadata": {},
   "outputs": [],
   "source": [
    "start = time.time()\n",
    "kernelHor_div = np.array([[1,1,1],[0,0,0],[-1,-1,-1]]) #--> kernel theo phương ngang\n",
    "kernelVer_div = np.array([[-1,0,1],[-1,0,1],[-1,0,1]]) #--> kernel theo phương dọc\n",
    "\n",
    "#áp dụng bộ lọc Prewitt --> gradient\n",
    "prewittHor_div = cv2.filter2D(img_lena, -1, kernelHor_div)\n",
    "prewittVer_div = cv2.filter2D(img_lena, -1, kernelVer_div) \n",
    "\n",
    "grad_magnitude_prewitt = gradient_magnitude(prewittHor_div,prewittVer_div)\n",
    "prewittRuntime = time.time() - start\n",
    "\n",
    "bin_grad_prewitt = binary_segmentation(grad_magnitude_prewitt,20)\n",
    "\n",
    "smooth_lena_with_edge_preservation = smooth_lena.copy()\n",
    "smooth_lena_with_edge_preservation[bin_grad_prewitt == 255] = img_lena[bin_grad_prewitt == 255]\n",
    "\n",
    "plt.figure(figsize=(20, 10))\n",
    "plt.subplot(2, 4, 1);plt.imshow(img_lena, cmap=\"gray\");plt.title(\"Original\");plt.axis(\"off\")\n",
    "plt.subplot(2, 4, 2);plt.imshow(prewittHor_div, cmap=\"gray\");plt.title(\"Prewitt hor_div\");plt.axis(\"off\")\n",
    "plt.subplot(2, 4, 3);plt.imshow(prewittVer_div, cmap=\"gray\");plt.title(\"Prewitt ver_div\");plt.axis(\"off\")\n",
    "plt.subplot(2, 4, 4);plt.imshow(grad_magnitude_prewitt, cmap=\"gray\");plt.title(\"Prewitt gradiant_mag\");plt.axis(\"off\")\n",
    "\n",
    "plt.subplot(2, 4, 5);plt.imshow(bin_grad_prewitt, cmap=\"gray\");plt.title(\"binary seg 20\");plt.axis(\"off\")\n",
    "plt.subplot(2, 4, 6);plt.imshow(smooth_lena, cmap=\"gray\");plt.title(\"Smooth Lena\");plt.axis(\"off\")\n",
    "plt.subplot(2, 4, 7);plt.imshow(smooth_lena_with_edge_preservation, cmap=\"gray\");plt.title(\"Smooth Lena with Edge Preservation\");plt.axis(\"off\")"
   ]
  },
  {
   "cell_type": "markdown",
   "metadata": {},
   "source": [
    "***Robert***"
   ]
  },
  {
   "cell_type": "code",
   "execution_count": null,
   "metadata": {},
   "outputs": [],
   "source": [
    "start = time.time()\n",
    "kernelHor_div = np.array([[1, 0], [0, -1]]) \n",
    "kernelVer_div = np.array([[0, 1], [-1, 0]])  \n",
    "\n",
    "robertsHor_div = cv2.filter2D(img_lena, -1, kernelHor_div)\n",
    "robertsVer_div = cv2.filter2D(img_lena, -1, kernelVer_div)\n",
    "grad_magnitude_robert = gradient_magnitude(robertsHor_div,robertsVer_div)\n",
    "robertRuntime = time.time() - start\n",
    "\n",
    "bin_grad_robert = binary_segmentation(grad_magnitude_robert,20)\n",
    "\n",
    "smooth_lena_with_edge_preservation = smooth_lena.copy()\n",
    "smooth_lena_with_edge_preservation[bin_grad_robert == 255] = img_lena[bin_grad_robert == 255]\n",
    "\n",
    "plt.figure(figsize=(20, 10))\n",
    "plt.subplot(2, 4, 1);plt.imshow(img_lena, cmap=\"gray\");plt.title(\"Original\");plt.axis(\"off\")\n",
    "plt.subplot(2, 4, 2);plt.imshow(robertsHor_div, cmap=\"gray\");plt.title(\"Robert hor_div\");plt.axis(\"off\")\n",
    "plt.subplot(2, 4, 3);plt.imshow(robertsVer_div, cmap=\"gray\");plt.title(\"Robert ver_div\");plt.axis(\"off\")\n",
    "plt.subplot(2, 4, 4);plt.imshow(grad_magnitude_robert, cmap=\"gray\");plt.title(\"Robert gradiant_mag\");plt.axis(\"off\")\n",
    "\n",
    "plt.subplot(2, 4, 5);plt.imshow(bin_grad_robert, cmap=\"gray\");plt.title(\"binary seg 20\");plt.axis(\"off\")\n",
    "plt.subplot(2, 4, 6);plt.imshow(smooth_lena, cmap=\"gray\");plt.title(\"Smooth Lena\");plt.axis(\"off\")\n",
    "plt.subplot(2, 4, 7);plt.imshow(smooth_lena_with_edge_preservation, cmap=\"gray\");plt.title(\"Smooth Lena with Edge Preservation\");plt.axis(\"off\")"
   ]
  },
  {
   "cell_type": "markdown",
   "metadata": {},
   "source": [
    "***Scharr***"
   ]
  },
  {
   "cell_type": "code",
   "execution_count": null,
   "metadata": {},
   "outputs": [],
   "source": [
    "start = time.time()\n",
    "\n",
    "scharr_Hor_div = cv2.Scharr(img_lena, cv2.CV_64F, 1, 0)  #dx = 1, dy = 0\n",
    "scharr_Ver_div = cv2.Scharr(img_lena, cv2.CV_64F, 0, 1)  #dx = 0, dy = 1\n",
    "\n",
    "grad_magnitude_scharr = gradient_magnitude(sobel_Hor_div,scharr_Ver_div)\n",
    "scharrRuntime = time.time() - start\n",
    "\n",
    "bin_grad_scharr = binary_segmentation(grad_magnitude_scharr,20)\n",
    "smooth_lena_with_edge_preservation = smooth_lena.copy()\n",
    "smooth_lena_with_edge_preservation[bin_grad_scharr == 255] = img_lena[bin_grad_scharr == 255]\n",
    "\n",
    "plt.figure(figsize=(20, 10))\n",
    "plt.subplot(2, 4, 1);plt.imshow(img_lena, cmap=\"gray\");plt.title(\"Original\");plt.axis(\"off\")\n",
    "plt.subplot(2, 4, 2);plt.imshow(scharr_Hor_div, cmap=\"gray\");plt.title(\"Scharr hor_div\");plt.axis(\"off\")\n",
    "plt.subplot(2, 4, 3);plt.imshow(scharr_Ver_div, cmap=\"gray\");plt.title(\"Scharr ver_div\");plt.axis(\"off\")\n",
    "plt.subplot(2, 4, 4);plt.imshow(grad_magnitude_scharr, cmap=\"gray\");plt.title(\"Scharr gradiant_mag\");plt.axis(\"off\")\n",
    "\n",
    "plt.subplot(2, 4, 5);plt.imshow(bin_grad_scharr, cmap=\"gray\");plt.title(\"binary seg 20\");plt.axis(\"off\")\n",
    "plt.subplot(2, 4, 6);plt.imshow(smooth_lena, cmap=\"gray\");plt.title(\"Smooth Lena\");plt.axis(\"off\")\n",
    "plt.subplot(2, 4, 7);plt.imshow(smooth_lena_with_edge_preservation, cmap=\"gray\");plt.title(\"Smooth Lena with Edge Preservation\");plt.axis(\"off\")"
   ]
  },
  {
   "cell_type": "markdown",
   "metadata": {},
   "source": [
    "***Laplacian***"
   ]
  },
  {
   "cell_type": "code",
   "execution_count": null,
   "metadata": {},
   "outputs": [],
   "source": [
    "start = time.time()\n",
    "grad_magnitude_laplacian = np.abs(cv2.Laplacian(img_lena, cv2.CV_64F).astype(np.uint8))\n",
    "#Sử dụng toán tử Laplacian để tính gradient (biến đổi hai lần đạo hàm)\n",
    "laplacianRuntime = time.time() - start\n",
    "\n",
    "bin_grad_laplacian = binary_segmentation(grad_magnitude_laplacian,20)\n",
    "\n",
    "smooth_lena_with_edge_preservation = smooth_lena.copy()\n",
    "smooth_lena_with_edge_preservation[bin_grad_laplacian == 255] = img_lena[bin_grad_laplacian == 255]\n",
    "\n",
    "plt.figure(figsize=(15, 8))\n",
    "plt.subplot(2, 3, 1);plt.imshow(img_lena, cmap=\"gray\");plt.title(\"Original\");plt.axis(\"off\")\n",
    "plt.subplot(2, 3, 2);plt.imshow(grad_magnitude_laplacian, cmap=\"gray\");plt.title(\"Laplacian\");plt.axis(\"off\")\n",
    "\n",
    "plt.subplot(2, 3, 3);plt.imshow(grad_magnitude_laplacian, cmap=\"gray\");plt.title(\"Binary Seg 20\");plt.axis(\"off\")\n",
    "plt.subplot(2, 3, 4);plt.imshow(smooth_lena, cmap=\"gray\");plt.title(\"Smooth Lena\");plt.axis(\"off\")\n",
    "plt.subplot(2, 3, 5);plt.imshow(smooth_lena_with_edge_preservation, cmap=\"gray\");plt.title(\"Smooth Lena with Edge Preservation\");plt.axis(\"off\")"
   ]
  },
  {
   "cell_type": "markdown",
   "metadata": {},
   "source": [
    "***Exercise 8***"
   ]
  },
  {
   "cell_type": "code",
   "execution_count": null,
   "metadata": {},
   "outputs": [],
   "source": [
    "execution_times = [cannyRuntime,sobelRuntime,prewittRuntime,robertRuntime,scharrRuntime,laplacianRuntime]\n",
    "print(execution_times)\n",
    "operators = ['Canny','Sobel', 'Prewitt','Roberts', 'Scharr','Laplacian']\n",
    "\n",
    "plt.figure(figsize=(10,6))\n",
    "plt.bar(operators, execution_times, color='skyblue')\n",
    "plt.title('So sánh thời gian thực thi của các toán tử')\n",
    "plt.xlabel('Toán tử')\n",
    "plt.ylabel('Thời gian (giây)')\n",
    "plt.xticks(rotation=45)\n",
    "plt.tight_layout()\n",
    "plt.show()"
   ]
  },
  {
   "cell_type": "markdown",
   "metadata": {},
   "source": [
    "***Canny, Sobel, Scharr, Laplacian: Tất cả đều có sẵn trong OpenCV, và bạn có thể dễ dàng áp dụng chúng bằng các hàm như cv2.Canny(), cv2.Sobel(), cv2.Scharr(), và cv2.Laplacian()***\n",
    "***Prewitt và Robert: Những bộ lọc này không có sẵn trực tiếp trong OpenCV --> cv2.filter2D() với các kernel được xác định trước***\n",
    "Canny sử dụng gradient và ngưỡng kép\n",
    "Sobel và Scharr đạo hàm (gradient) trong hướng ngang và dọc --> phát hiện biên trong ảnh\n",
    "Laplacian đạo hàm bậc 2 --> dùng để phát hiện các vùng có độ thay đổi nhanh (biên)\n",
    "Prewitt và Robert là các bộ lọc phát hiện biên tương tự như Sobel --> kernel khác nhau."
   ]
  },
  {
   "cell_type": "markdown",
   "metadata": {},
   "source": [
    "***Exercise 9***"
   ]
  },
  {
   "cell_type": "code",
   "execution_count": null,
   "metadata": {},
   "outputs": [],
   "source": [
    "img_01 = cv2.imread(r\"D:/Study/School/OpenCV/CS-K49-IPCV_LAB/Resource/images_lab2/unconnected.png\", cv2.IMREAD_GRAYSCALE)\n",
    "img_02 = cv2.imread(r\"D:/Study/School/OpenCV/CS-K49-IPCV_LAB/Resource/images_lab2/connected.png\", cv2.IMREAD_GRAYSCALE)\n",
    "\n",
    "images = [img_01,img_02]\n",
    "\n",
    "plt.figure(figsize=(4, 4))\n",
    "for i in range(len(images)):\n",
    "    plt.subplot(121+i)\n",
    "    if all_components(images[i]) == 1:\n",
    "        plt.title(\"Connected\")\n",
    "    else:\n",
    "        plt.title(\"Unconnected\")\n",
    "    plt.imshow(images[i], cmap=\"gray\")\n",
    "    plt.axis(\"off\")"
   ]
  }
 ],
 "metadata": {
  "kernelspec": {
   "display_name": "Python 3",
   "language": "python",
   "name": "python3"
  },
  "language_info": {
   "codemirror_mode": {
    "name": "ipython",
    "version": 3
   },
   "file_extension": ".py",
   "mimetype": "text/x-python",
   "name": "python",
   "nbconvert_exporter": "python",
   "pygments_lexer": "ipython3",
   "version": "3.12.8"
  }
 },
 "nbformat": 4,
 "nbformat_minor": 2
}
