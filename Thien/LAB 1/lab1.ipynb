{
 "cells": [
  {
   "cell_type": "code",
   "execution_count": 1,
   "metadata": {},
   "outputs": [],
   "source": [
    "import cv2\n",
    "import numpy as np\n",
    "from matplotlib import pyplot as plt\n",
    "from Algo import *\n",
    "import random \n",
    "random.seed(6)"
   ]
  },
  {
   "cell_type": "markdown",
   "metadata": {},
   "source": [
    "# Câu 1"
   ]
  },
  {
   "cell_type": "code",
   "execution_count": null,
   "metadata": {},
   "outputs": [],
   "source": [
    "image = np.random.randint(0, 256, (800, 800), dtype = np.uint8)"
   ]
  },
  {
   "cell_type": "code",
   "execution_count": null,
   "metadata": {},
   "outputs": [],
   "source": [
    "# cv2.imshow('Image', image)\n",
    "# cv2.waitKey(0)\n",
    "# cv2.destroyAllWindows()\n",
    "plt.imshow(image, cmap='gray')\n",
    "plt.axis('off')"
   ]
  },
  {
   "cell_type": "markdown",
   "metadata": {},
   "source": [
    "# Câu 2"
   ]
  },
  {
   "cell_type": "code",
   "execution_count": null,
   "metadata": {},
   "outputs": [],
   "source": [
    "invert_color_image = invert_color(image)"
   ]
  },
  {
   "cell_type": "code",
   "execution_count": null,
   "metadata": {},
   "outputs": [],
   "source": [
    "fig, axes = plt.subplots(1, 2, figsize=(15, 10))\n",
    "\n",
    "# Hiển thị ảnh gốc\n",
    "axes[0].imshow(image, cmap='gray')\n",
    "axes[0].set_title('Original Image')\n",
    "axes[0].axis('off')\n",
    "\n",
    "# Hiển thị ảnh đảo màu\n",
    "axes[1].imshow(invert_color_image, cmap='gray')\n",
    "axes[1].set_title('Invert Color Image')\n",
    "axes[1].axis('off')\n",
    "\n",
    "plt.show()"
   ]
  },
  {
   "cell_type": "markdown",
   "metadata": {},
   "source": [
    "# Câu 3"
   ]
  },
  {
   "cell_type": "code",
   "execution_count": null,
   "metadata": {},
   "outputs": [],
   "source": [
    "alpha_values = [-100, -50, 50, 100]\n",
    "plt.figure(figsize=(15, 10))\n",
    "for i, alpha in enumerate(alpha_values):\n",
    "    plt.subplot(1, 5, i + 2)\n",
    "    plt.imshow(adjust_brightness(image, alpha), cmap=\"gray\")\n",
    "    plt.title(f\"alpha_values {alpha}\")\n",
    "    plt.axis(\"off\")\n",
    "plt.subplot(151)\n",
    "plt.imshow(image, cmap=\"gray\")\n",
    "plt.title(\"Original\")\n",
    "plt.axis(\"off\")\n"
   ]
  },
  {
   "cell_type": "markdown",
   "metadata": {},
   "source": [
    "# Câu 4"
   ]
  },
  {
   "cell_type": "code",
   "execution_count": null,
   "metadata": {},
   "outputs": [],
   "source": [
    "beta_values = [0.7,1.3]\n",
    "adjusted_images2 = [adjust_brightness2(image, beta) for beta in beta_values]\n",
    "\n",
    "fig, axes = plt.subplots(1, 3, figsize=(20, 5))\n",
    "\n",
    "axes[0].imshow(image, cmap='gray')\n",
    "axes[0].set_title('Original Image')\n",
    "axes[0].axis('off')\n",
    "\n",
    "for i, (beta, adjusted_image2) in enumerate(zip(beta_values, adjusted_images2)):\n",
    "    axes[i + 1].imshow(adjusted_image2, cmap='gray')\n",
    "    axes[i + 1].set_title(f'Beta = {beta}')\n",
    "    axes[i + 1].axis('off')\n",
    "\n",
    "plt.show()"
   ]
  },
  {
   "cell_type": "markdown",
   "metadata": {},
   "source": [
    "# Câu 5"
   ]
  },
  {
   "cell_type": "code",
   "execution_count": null,
   "metadata": {},
   "outputs": [],
   "source": [
    "part1 = image[:400, :400]\n",
    "part2 = image[:400, 400:]\n",
    "part3 = image[400:, :400]\n",
    "\n",
    "rgb_image = cv2.merge((part1, part2, part3))\n",
    "\n",
    "parts = [part1, part2, part3, rgb_image]\n",
    "titles = ['Part 1', 'Part 2', 'Part 3', 'RGB Image']\n",
    "\n",
    "fig, axes = plt.subplots(1, 4, figsize=(20, 5))\n",
    "\n",
    "for i, (part, title) in enumerate(zip(parts, titles)):\n",
    "    if i < 3:\n",
    "        axes[i].imshow(part, cmap='gray')\n",
    "    else:\n",
    "        axes[i].imshow(cv2.cvtColor(part, cv2.COLOR_BGR2RGB))\n",
    "    axes[i].set_title(title)\n",
    "    axes[i].axis('off')\n",
    "\n",
    "plt.show()"
   ]
  },
  {
   "cell_type": "markdown",
   "metadata": {},
   "source": [
    "# Câu 6"
   ]
  },
  {
   "cell_type": "code",
   "execution_count": null,
   "metadata": {},
   "outputs": [],
   "source": [
    "invert_color_rgb_image = invert_color(rgb_image)\n",
    "fig, axes = plt.subplots(2, 4, figsize=(15, 10))\n",
    "\n",
    "# Hiển thị ảnh gốc\n",
    "axes[0, 0].imshow(rgb_image, cmap='gray')\n",
    "axes[0, 0].set_title('Original Image')\n",
    "axes[0, 0].axis('off')\n",
    "\n",
    "# Hiển thị ảnh đảo màu\n",
    "axes[0, 1].imshow(invert_color_rgb_image, cmap='gray')\n",
    "axes[0, 1].set_title('Invert Color Image')\n",
    "axes[0, 1].axis('off')\n",
    "\n",
    "alpha_values = [-100, -50, 50, 100]\n",
    "adjusted_images = [adjust_brightness(rgb_image, alpha) for alpha in alpha_values]\n",
    "for i, (alpha, adjusted_image) in enumerate(zip(alpha_values, adjusted_images)):\n",
    "    row, col = divmod(i + 2, 4)\n",
    "    axes[row, col].imshow(adjusted_image, cmap='gray')\n",
    "    axes[row, col].set_title(f'Alpha = {alpha}')\n",
    "    axes[row, col].axis('off')\n",
    "\n",
    "beta_values = [0.7, 1.3]\n",
    "adjusted_images2 = [adjust_brightness2(image, beta) for beta in beta_values]\n",
    "for i, (beta, adjusted_image2) in enumerate(zip(beta_values, adjusted_images2)):\n",
    "    row, col = divmod(i + 6, 4)\n",
    "    axes[row, col].imshow(adjusted_image2, cmap='gray')\n",
    "    axes[row, col].set_title(f'Beta = {beta}')\n",
    "    axes[row, col].axis('off')\n",
    "\n",
    "plt.show()"
   ]
  },
  {
   "cell_type": "markdown",
   "metadata": {},
   "source": [
    "# Câu 7"
   ]
  },
  {
   "cell_type": "code",
   "execution_count": null,
   "metadata": {},
   "outputs": [],
   "source": [
    "HSV = cv2.merge((part1, part2, part3))\n",
    "HSL = cv2.merge((part1, part2, part3))\n",
    "\n",
    "HSV_img = cv2.cvtColor(HSV,cv2.COLOR_HSV2RGB)\n",
    "HSL_img = cv2.cvtColor(HSL,cv2.COLOR_HLS2RGB)\n",
    "\n",
    "plt.figure(figsize=(15, 10))\n",
    "plt.subplot(121);plt.imshow(HSV_img);plt.title(\"HSV\")\n",
    "plt.axis(\"off\")\n",
    "plt.subplot(122);plt.imshow(HSL_img); plt.title(\"HSL\")\n",
    "plt.axis(\"off\")"
   ]
  },
  {
   "cell_type": "markdown",
   "metadata": {},
   "source": [
    "# Câu 8"
   ]
  },
  {
   "cell_type": "markdown",
   "metadata": {},
   "source": [
    "## HSL"
   ]
  },
  {
   "cell_type": "code",
   "execution_count": null,
   "metadata": {},
   "outputs": [],
   "source": [
    "invert_color_hsl_image = invert_color(HSL_img)\n",
    "fig, axes = plt.subplots(2, 4, figsize=(15, 10))\n",
    "\n",
    "# Display original HSL image\n",
    "axes[0, 0].imshow(HSL_img)\n",
    "axes[0, 0].set_title('HSL Image')\n",
    "axes[0, 0].axis('off')\n",
    "\n",
    "# Display inverted color HSL image\n",
    "axes[0, 1].imshow(invert_color_hsl_image)\n",
    "axes[0, 1].set_title('Invert Color HSL Image')\n",
    "axes[0, 1].axis('off')\n",
    "\n",
    "alpha_values = [-100, -50, 50, 100]\n",
    "adjusted_images_hsl = [adjust_brightness(HSL_img, alpha) for alpha in alpha_values]\n",
    "for i, (alpha, adjusted_image_hsl) in enumerate(zip(alpha_values, adjusted_images_hsl)):\n",
    "    row, col = divmod(i + 2, 4)\n",
    "    axes[row, col].imshow(adjusted_image_hsl)\n",
    "    axes[row, col].set_title(f'Alpha = {alpha}')\n",
    "    axes[row, col].axis('off')\n",
    "\n",
    "beta_values = [0.7, 1.3]\n",
    "adjusted_images_hsl = [adjust_brightness2(HSL_img, beta) for beta in beta_values]\n",
    "for i, (beta, adjusted_images_hsl) in enumerate(zip(beta_values, adjusted_images_hsl)):\n",
    "    row, col = divmod(i + 6, 4)\n",
    "    axes[row, col].imshow(adjusted_images_hsl)\n",
    "    axes[row, col].set_title(f'Beta = {beta}')\n",
    "    axes[row, col].axis('off')\n",
    "\n",
    "plt.show()"
   ]
  },
  {
   "cell_type": "markdown",
   "metadata": {},
   "source": [
    "## HSV"
   ]
  },
  {
   "cell_type": "code",
   "execution_count": null,
   "metadata": {},
   "outputs": [],
   "source": [
    "invert_color_hsv_image = invert_color(HSV_img)\n",
    "fig, axes = plt.subplots(2, 4, figsize=(15, 10))\n",
    "\n",
    "# Display original HSV image\n",
    "axes[0, 0].imshow(HSV_img)\n",
    "axes[0, 0].set_title('HSV Image')\n",
    "axes[0, 0].axis('off')\n",
    "\n",
    "# Display inverted color HSV image\n",
    "axes[0, 1].imshow(invert_color_hsv_image)\n",
    "axes[0, 1].set_title('Invert Color HSV Image')\n",
    "axes[0, 1].axis('off')\n",
    "\n",
    "alpha_values = [-100, -50, 50, 100]\n",
    "adjusted_images_hsv = [adjust_brightness(HSV_img, alpha) for alpha in alpha_values]\n",
    "for i, (alpha, adjusted_image_hsv) in enumerate(zip(alpha_values, adjusted_images_hsv)):\n",
    "    row, col = divmod(i + 2, 4)\n",
    "    axes[row, col].imshow(adjusted_image_hsv)\n",
    "    axes[row, col].set_title(f'Alpha = {alpha}')\n",
    "    axes[row, col].axis('off')\n",
    "\n",
    "beta_values = [0.7, 1.3]\n",
    "adjusted_images_hsv = [adjust_brightness2(HSV_img, beta) for beta in beta_values]\n",
    "for i, (beta, adjusted_images_hsv) in enumerate(zip(beta_values, adjusted_images_hsv)):\n",
    "    row, col = divmod(i + 6, 4)\n",
    "    axes[row, col].imshow(adjusted_images_hsv)\n",
    "    axes[row, col].set_title(f'Beta = {beta}')\n",
    "    axes[row, col].axis('off')\n",
    "\n",
    "plt.show()"
   ]
  },
  {
   "cell_type": "markdown",
   "metadata": {},
   "source": [
    "# Câu 9"
   ]
  },
  {
   "cell_type": "code",
   "execution_count": null,
   "metadata": {},
   "outputs": [],
   "source": [
    "A0 = np.zeros((800, 800, 4), dtype=np.uint8)\n",
    "\n",
    "P1 = A0[:400, :400]\n",
    "P2 = A0[:400, 400:]\n",
    "P3 = A0[400:, :400]\n",
    "\n",
    "P1 = cv2.resize(P1,(600,600))\n",
    "P2 = cv2.resize(P2,(600,600))\n",
    "P3 = cv2.resize(P3,(600,600))\n",
    "\n",
    "P1 = cv2.cvtColor(P1, cv2.COLOR_RGB2RGBA)\n",
    "P2 = cv2.cvtColor(P2, cv2.COLOR_RGB2RGBA)\n",
    "P3 = cv2.cvtColor(P3, cv2.COLOR_RGB2RGBA)\n",
    "A0 = cv2.cvtColor(A0, cv2.COLOR_RGB2RGBA)\n",
    "\n",
    "R0 = np.zeros_like(P1, dtype=np.uint8)\n",
    "B0 = np.zeros_like(P2, dtype=np.uint8)\n",
    "G0 = np.zeros_like(P3, dtype=np.uint8)\n",
    "\n",
    "R0[:, :, :] = [255, 0, 0, 100]  # RED \n",
    "B0[:, :, :] = [0, 0, 255, 100]  # BLUE \n",
    "G0[:, :, :] = [0, 255, 0, 100]  # GREEN \n",
    "\n",
    "A0[:, :, 3] = 255\n",
    "\n",
    "\n",
    "A0[:600, :600] = cv2.addWeighted(R0, 100/200.0, A0[:600, :600], 1 - 100/300.0, 0)\n",
    "A0[:600, 200:] = cv2.addWeighted(B0, 100/200.0, A0[:600, 200:], 1 - 100/300.0, 0)  \n",
    "A0[200:, :600] = cv2.addWeighted(G0, 100/200.0, A0[200:, :600], 1 - 100/300.0, 0)\n",
    "\n",
    "plt.imshow(A0)\n",
    "plt.axis(\"off\")"
   ]
  }
 ],
 "metadata": {
  "kernelspec": {
   "display_name": ".venv",
   "language": "python",
   "name": "python3"
  },
  "language_info": {
   "codemirror_mode": {
    "name": "ipython",
    "version": 3
   },
   "file_extension": ".py",
   "mimetype": "text/x-python",
   "name": "python",
   "nbconvert_exporter": "python",
   "pygments_lexer": "ipython3",
   "version": "3.12.2"
  }
 },
 "nbformat": 4,
 "nbformat_minor": 2
}
