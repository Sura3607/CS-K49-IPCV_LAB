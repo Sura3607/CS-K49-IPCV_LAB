{
 "cells": [
  {
   "cell_type": "code",
   "execution_count": 1,
   "metadata": {},
   "outputs": [],
   "source": [
    "import cv2\n",
    "import numpy as np\n",
    "from matplotlib import pyplot as plt\n",
    "from Algo import *\n",
    "import random \n",
    "random.seed(6)"
   ]
  },
  {
   "cell_type": "code",
   "execution_count": 2,
   "metadata": {},
   "outputs": [],
   "source": [
    "image = np.random.randint(0, 256, (800, 800, 3), dtype = np.uint8)"
   ]
  },
  {
   "cell_type": "code",
   "execution_count": 3,
   "metadata": {},
   "outputs": [],
   "source": [
    "cv2.imshow('Image', image)\n",
    "cv2.waitKey(0)\n",
    "cv2.destroyAllWindows()"
   ]
  },
  {
   "cell_type": "code",
   "execution_count": 4,
   "metadata": {},
   "outputs": [],
   "source": [
    "invert_color_image = invert_color(image)"
   ]
  },
  {
   "cell_type": "code",
   "execution_count": null,
   "metadata": {},
   "outputs": [],
   "source": [
    "fig, axes = plt.subplots(1, 2, figsize=(15, 10))\n",
    "\n",
    "# Hiển thị ảnh gốc\n",
    "axes[0].imshow(image, cmap='gray')\n",
    "axes[0].set_title('Original Image')\n",
    "axes[0].axis('off')\n",
    "\n",
    "# Hiển thị ảnh đảo màu\n",
    "axes[1].imshow(invert_color_image, cmap='gray')\n",
    "axes[1].set_title('Invert Color Image')\n",
    "axes[1].axis('off')\n",
    "\n",
    "plt.show()"
   ]
  },
  {
   "cell_type": "code",
   "execution_count": null,
   "metadata": {},
   "outputs": [],
   "source": [
    "import numpy as np\n",
    "import matplotlib.pyplot as plt\n",
    "\n",
    "alpha_values = [-100, -50, 50, 100]\n",
    "adjusted_images = [adjust_brightness(image, alpha) for alpha in alpha_values]\n",
    "\n",
    "fig, axes = plt.subplots(1, 5, figsize=(20, 5))\n",
    "\n",
    "axes[0].imshow(image, cmap='gray')\n",
    "axes[0].set_title('Original Image')\n",
    "axes[0].axis('off')\n",
    "\n",
    "for i, (alpha, adjusted_image) in enumerate(zip(alpha_values, adjusted_images)):\n",
    "    axes[i + 1].imshow(adjusted_image, cmap='gray')\n",
    "    axes[i + 1].set_title(f'Alpha = {alpha}')\n",
    "    axes[i + 1].axis('off')\n",
    "\n",
    "plt.show()"
   ]
  },
  {
   "cell_type": "code",
   "execution_count": null,
   "metadata": {},
   "outputs": [],
   "source": [
    "beta_values = [0.7,1.3]\n",
    "adjusted_images2 = [adjust_brightness2(image, beta) for beta in beta_values]\n",
    "\n",
    "fig, axes = plt.subplots(1, 3, figsize=(20, 5))\n",
    "\n",
    "axes[0].imshow(image, cmap='gray')\n",
    "axes[0].set_title('Original Image')\n",
    "axes[0].axis('off')\n",
    "\n",
    "for i, (beta, adjusted_image2) in enumerate(zip(beta_values, adjusted_images2)):\n",
    "    axes[i + 1].imshow(adjusted_image2, cmap='gray')\n",
    "    axes[i + 1].set_title(f'Beta = {beta}')\n",
    "    axes[i + 1].axis('off')\n",
    "\n",
    "plt.show()"
   ]
  },
  {
   "cell_type": "code",
   "execution_count": null,
   "metadata": {},
   "outputs": [],
   "source": [
    "part1 = image[:400, :400]\n",
    "part2 = image[:400, 400:]\n",
    "part3 = image[400:, :400]\n",
    "part4 = image[400:, 400:]\n",
    "\n",
    "b1, g1, r1 = cv2.split(part1) \n",
    "b2, g2, r2 = cv2.split(part2) \n",
    "b3, g3, r3 = cv2.split(part3)\n",
    "\n",
    "rgb_image = cv2.merge((r1, g2, b3))\n",
    "\n",
    "parts = [part1, part2, part3, rgb_image]\n",
    "titles = ['Part 1', 'Part 2', 'Part 3', 'RGB Image']\n",
    "\n",
    "fig, axes = plt.subplots(1, 4, figsize=(20, 5))\n",
    "\n",
    "for i, (part, title) in enumerate(zip(parts, titles)):\n",
    "    if i < 3:\n",
    "        axes[i].imshow(part, cmap='gray')\n",
    "    else:\n",
    "        axes[i].imshow(cv2.cvtColor(part, cv2.COLOR_BGR2RGB))\n",
    "    axes[i].set_title(title)\n",
    "    axes[i].axis('off')\n",
    "\n",
    "plt.show()"
   ]
  },
  {
   "cell_type": "code",
   "execution_count": null,
   "metadata": {},
   "outputs": [],
   "source": [
    "invert_color_rgb_image = invert_color(rgb_image)\n",
    "fig, axes = plt.subplots(2, 4, figsize=(15, 10))\n",
    "\n",
    "# Hiển thị ảnh gốc\n",
    "axes[0, 0].imshow(rgb_image, cmap='gray')\n",
    "axes[0, 0].set_title('Original Image')\n",
    "axes[0, 0].axis('off')\n",
    "\n",
    "# Hiển thị ảnh đảo màu\n",
    "axes[0, 1].imshow(invert_color_rgb_image, cmap='gray')\n",
    "axes[0, 1].set_title('Invert Color Image')\n",
    "axes[0, 1].axis('off')\n",
    "\n",
    "alpha_values = [-100, -50, 50, 100]\n",
    "adjusted_images = [adjust_brightness(rgb_image, alpha) for alpha in alpha_values]\n",
    "for i, (alpha, adjusted_image) in enumerate(zip(alpha_values, adjusted_images)):\n",
    "    row, col = divmod(i + 2, 4)\n",
    "    axes[row, col].imshow(adjusted_image, cmap='gray')\n",
    "    axes[row, col].set_title(f'Alpha = {alpha}')\n",
    "    axes[row, col].axis('off')\n",
    "\n",
    "beta_values = [0.7, 1.3]\n",
    "adjusted_images2 = [adjust_brightness2(image, beta) for beta in beta_values]\n",
    "for i, (beta, adjusted_image2) in enumerate(zip(beta_values, adjusted_images2)):\n",
    "    row, col = divmod(i + 6, 4)\n",
    "    axes[row, col].imshow(adjusted_image2, cmap='gray')\n",
    "    axes[row, col].set_title(f'Beta = {beta}')\n",
    "    axes[row, col].axis('off')\n",
    "\n",
    "plt.show()"
   ]
  },
  {
   "cell_type": "code",
   "execution_count": null,
   "metadata": {},
   "outputs": [],
   "source": []
  }
 ],
 "metadata": {
  "kernelspec": {
   "display_name": ".venv",
   "language": "python",
   "name": "python3"
  },
  "language_info": {
   "codemirror_mode": {
    "name": "ipython",
    "version": 3
   },
   "file_extension": ".py",
   "mimetype": "text/x-python",
   "name": "python",
   "nbconvert_exporter": "python",
   "pygments_lexer": "ipython3",
   "version": "3.12.2"
  }
 },
 "nbformat": 4,
 "nbformat_minor": 2
}
